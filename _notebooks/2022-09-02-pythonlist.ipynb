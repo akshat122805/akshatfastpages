{
 "cells": [
  {
   "cell_type": "markdown",
   "metadata": {},
   "source": [
    "# Python List 09/02/2022\n",
    "> Data Abstraction using Python Lists. \n"
   ]
  },
  {
   "cell_type": "code",
   "execution_count": 2,
   "metadata": {},
   "outputs": [
    {
     "name": "stdout",
     "output_type": "stream",
     "text": [
      "name Akshat Parikh <class 'str'>\n",
      "age 16 <class 'int'>\n",
      "score 100.0 <class 'float'>\n",
      "\n",
      "langs ['Python', 'JavaScript', 'Java'] <class 'list'>\n",
      "- langs[0] Python <class 'str'>\n",
      "\n",
      "person {'name': 'Akshat Parikh', 'age': 16, 'score': 100.0, 'langs': ['Python', 'JavaScript', 'Java']} <class 'dict'>\n",
      "- person[\"name\"] Akshat Parikh <class 'str'>\n"
     ]
    }
   ],
   "source": [
    "# Sample of Python Variables\n",
    "\n",
    "# variable of type string\n",
    "name = \"Akshat Parikh\"\n",
    "print(\"name\", name, type(name))\n",
    "\n",
    "# variable of type integer\n",
    "age = 16\n",
    "print(\"age\", age, type(age))\n",
    "\n",
    "# variable of type float\n",
    "score = 100.0\n",
    "print(\"score\", score, type(score))\n",
    "\n",
    "print()\n",
    "\n",
    "# variable of type list (many values in one variable)\n",
    "langs = [\"Python\", \"JavaScript\", \"Java\"]\n",
    "print(\"langs\", langs, type(langs))\n",
    "print(\"- langs[0]\", langs[0], type(langs[0]))\n",
    "\n",
    "print()\n",
    "\n",
    "# variable of type dictionary (a group of keys and values)\n",
    "person = {\n",
    "    \"name\": name,\n",
    "    \"age\": age,\n",
    "    \"score\": score,\n",
    "    \"langs\": langs\n",
    "}\n",
    "print(\"person\", person, type(person))\n",
    "print('- person[\"name\"]', person[\"name\"], type(person[\"name\"]))\n"
   ]
  },
  {
   "cell_type": "code",
   "execution_count": 4,
   "metadata": {},
   "outputs": [
    {
     "name": "stdout",
     "output_type": "stream",
     "text": [
      "[{'Car': 'Rolls Royce', 'Model': 'Wraith', 'Year': '2016', 'Engine': 'V12'}, {'Car': 'Mercedes Benz Maybach', 'Model': 'S580', 'Year': '2020', 'Engine': 'V10'}, {'Car': 'Mercedes G-Wagon', 'Model': 'G-Wagon', 'Year': '2021', 'Engine': 'V10'}, {'Car': 'Jeep', 'Model': 'Gladiator Rubicon', 'Year': '2020', 'Engine': 'V6'}, {'Car': 'Cadillac', 'Model': 'Escalade 600 Black', 'Year': '2023', 'Engine': 'V8'}, {'Car': 'Rivian', 'Model': 'R1S', 'Year': '2023', 'Engine': 'Electric'}, {'Car': 'Land Rover', 'Model': 'Range Rover', 'Year': '2021', 'Engine': 'V8'}]\n"
     ]
    }
   ],
   "source": [
    "Cars = []\n",
    "\n",
    "# Append to List a Dictionary of key/values related to a person and cars\n",
    "Cars.append({\n",
    "    \"Car\": \"Rolls Royce\",\n",
    "    \"Model\": \"Wraith\",\n",
    "    \"Year\": \"2016\",\n",
    "    \"Engine\": \"V12\",\n",
    "})\n",
    "\n",
    "\n",
    "Cars.append({\n",
    "    \"Car\": \"Mercedes Benz Maybach\",\n",
    "    \"Model\": \"S580\",\n",
    "    \"Year\": \"2020\",\n",
    "    \"Engine\": \"V10\",\n",
    "})\n",
    "\n",
    "Cars.append({\n",
    "    \"Car\": \"Mercedes G-Wagon\",\n",
    "    \"Model\": \"G-Wagon\",\n",
    "    \"Year\": \"2021\",\n",
    "    \"Engine\": \"V10\",\n",
    "})\n",
    "\n",
    "Cars.append({\n",
    "    \"Car\": \"Jeep\",\n",
    "    \"Model\": \"Gladiator Rubicon\",\n",
    "    \"Year\": \"2020\",\n",
    "    \"Engine\": \"V6\",\n",
    "})\n",
    "\n",
    "Cars.append({\n",
    "    \"Car\": \"Cadillac\",\n",
    "    \"Model\": \"Escalade 600 Black\",\n",
    "    \"Year\": \"2023\",\n",
    "    \"Engine\": \"V8\",\n",
    "})\n",
    "\n",
    "Cars.append({\n",
    "    \"Car\": \"Rivian\",\n",
    "    \"Model\": \"R1S\",\n",
    "    \"Year\": \"2023\",\n",
    "    \"Engine\": \"Electric\",\n",
    "})\n",
    "\n",
    "Cars.append({\n",
    "    \"Car\": \"Land Rover\",\n",
    "    \"Model\": \"Range Rover\",\n",
    "    \"Year\": \"2021\",\n",
    "    \"Engine\": \"V8\",\n",
    "})\n",
    "# Print the data structure\n",
    "print(Cars)"
   ]
  },
  {
   "cell_type": "code",
   "execution_count": 5,
   "metadata": {},
   "outputs": [
    {
     "name": "stdout",
     "output_type": "stream",
     "text": [
      "[{'FirstName': 'Akshat', 'LastName': 'Parikh', 'DOB': 'December 28', 'Residence': 'San Diego', 'Email': 'jmortensen@powayusd.com', 'Owns_Cars': ['Rolls Royce Culinan, Mercedes Maybach, Mercedes G-Wagon, Ashton Martin Vantage']}, {'FirstName': 'David', 'LastName': 'Vasilev', 'DOB': 'May 27', 'Residence': 'San Diego', 'Email': 'davidv42185@stu.powayusd.com', 'Owns_Cars': ['McLaren 720s, Ferrari 488']}]\n"
     ]
    }
   ],
   "source": [
    "# Define an empty List called InfoDb\n",
    "InfoDb = []\n",
    "\n",
    "# Append to List a Dictionary of key/values related to a person and cars\n",
    "InfoDb.append({\n",
    "    \"FirstName\": \"Akshat\",\n",
    "    \"LastName\": \"Parikh\",\n",
    "    \"DOB\": \"December 28\",\n",
    "    \"Residence\": \"San Diego\",\n",
    "    \"Email\": \"jmortensen@powayusd.com\",\n",
    "    \"Owns_Cars\": [\"Rolls Royce Culinan, Mercedes Maybach, Mercedes G-Wagon, Ashton Martin Vantage\"]\n",
    "})\n",
    "\n",
    "# Partner\n",
    "# Append to List a 2nd Dictionary of key/values\n",
    "InfoDb.append({\n",
    "    \"FirstName\": \"David\",\n",
    "    \"LastName\": \"Vasilev\",\n",
    "    \"DOB\": \"May 27\",\n",
    "    \"Residence\": \"San Diego\",\n",
    "    \"Email\": \"davidv42185@stu.powayusd.com\",\n",
    "    \"Owns_Cars\": [\"McLaren 720s, Ferrari 488\"]\n",
    "})\n",
    "\n",
    "# Print the data structure\n",
    "print(InfoDb)"
   ]
  },
  {
   "cell_type": "code",
   "execution_count": 6,
   "metadata": {},
   "outputs": [
    {
     "name": "stdout",
     "output_type": "stream",
     "text": [
      "For loop output\n",
      "\n",
      "Akshat Parikh\n",
      "\t Residence: San Diego\n",
      "\t Birth Day: December 28\n",
      "\t Cars: Rolls Royce Culinan, Mercedes Maybach, Mercedes G-Wagon, Ashton Martin Vantage\n",
      "\n",
      "David Vasilev\n",
      "\t Residence: San Diego\n",
      "\t Birth Day: May 27\n",
      "\t Cars: McLaren 720s, Ferrari 488\n",
      "\n"
     ]
    }
   ],
   "source": [
    "# given and index this will print InfoDb content\n",
    "def print_data(d_rec):\n",
    "    print(d_rec[\"FirstName\"], d_rec[\"LastName\"])  # using comma puts space between values\n",
    "    print(\"\\t\", \"Residence:\", d_rec[\"Residence\"]) # \\t is a tab indent\n",
    "    print(\"\\t\", \"Birth Day:\", d_rec[\"DOB\"])\n",
    "    print(\"\\t\", \"Cars: \", end=\"\")  # end=\"\" make sure no return occurs\n",
    "    print(\", \".join(d_rec[\"Owns_Cars\"]))  # join allows printing a string list with separator\n",
    "    print()\n",
    "\n",
    "\n",
    "# for loop iterates on length of InfoDb\n",
    "def for_loop():\n",
    "    print(\"For loop output\\n\")\n",
    "    for record in InfoDb:\n",
    "        print_data(record)\n",
    "\n",
    "for_loop()"
   ]
  },
  {
   "cell_type": "code",
   "execution_count": 7,
   "metadata": {},
   "outputs": [
    {
     "name": "stdout",
     "output_type": "stream",
     "text": [
      "While loop output\n",
      "\n",
      "Akshat Parikh\n",
      "\t Residence: San Diego\n",
      "\t Birth Day: December 28\n",
      "\t Cars: Rolls Royce Culinan, Mercedes Maybach, Mercedes G-Wagon, Ashton Martin Vantage\n",
      "\n",
      "David Vasilev\n",
      "\t Residence: San Diego\n",
      "\t Birth Day: May 27\n",
      "\t Cars: McLaren 720s, Ferrari 488\n",
      "\n"
     ]
    }
   ],
   "source": [
    "# while loop contains an initial n and an index incrementing statement (n += 1)\n",
    "def while_loop():\n",
    "    print(\"While loop output\\n\")\n",
    "    i = 0\n",
    "    while i < len(InfoDb):\n",
    "        record = InfoDb[i]\n",
    "        print_data(record)\n",
    "        i += 1\n",
    "    return\n",
    "\n",
    "while_loop()"
   ]
  },
  {
   "cell_type": "code",
   "execution_count": null,
   "metadata": {},
   "outputs": [],
   "source": []
  },
  {
   "cell_type": "code",
   "execution_count": 8,
   "metadata": {},
   "outputs": [
    {
     "name": "stdout",
     "output_type": "stream",
     "text": [
      "Recursive loop output\n",
      "\n",
      "Akshat Parikh\n",
      "\t Residence: San Diego\n",
      "\t Birth Day: December 28\n",
      "\t Cars: Rolls Royce Culinan, Mercedes Maybach, Mercedes G-Wagon, Ashton Martin Vantage\n",
      "\n",
      "David Vasilev\n",
      "\t Residence: San Diego\n",
      "\t Birth Day: May 27\n",
      "\t Cars: McLaren 720s, Ferrari 488\n",
      "\n"
     ]
    }
   ],
   "source": [
    "# recursion simulates loop incrementing on each call (n + 1) until exit condition is met\n",
    "def recursive_loop(i):\n",
    "    if i < len(InfoDb):\n",
    "        record = InfoDb[i]\n",
    "        print_data(record)\n",
    "        recursive_loop(i + 1)\n",
    "    return\n",
    "    \n",
    "print(\"Recursive loop output\\n\")\n",
    "recursive_loop(0)"
   ]
  }
 ],
 "metadata": {
  "kernelspec": {
   "display_name": "Python 3.8.10 64-bit",
   "language": "python",
   "name": "python3"
  },
  "language_info": {
   "codemirror_mode": {
    "name": "ipython",
    "version": 3
   },
   "file_extension": ".py",
   "mimetype": "text/x-python",
   "name": "python",
   "nbconvert_exporter": "python",
   "pygments_lexer": "ipython3",
   "version": "3.8.10"
  },
  "orig_nbformat": 4,
  "vscode": {
   "interpreter": {
    "hash": "916dbcbb3f70747c44a77c7bcd40155683ae19c65e1c03b4aa3499c5328201f1"
   }
  }
 },
 "nbformat": 4,
 "nbformat_minor": 2
}
