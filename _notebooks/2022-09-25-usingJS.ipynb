{
 "cells": [
  {
   "cell_type": "markdown",
   "metadata": {},
   "source": [
    "# HTML Fragments and JavaScript Kernel\n",
    "> Stock Table on Personal Flask now goes here!\n",
    "\n",
    "- title: HTML Fragments - JS Kernel\n",
    "- toc: false\n",
    "- badges: true\n",
    "- categories: [python, jupyter, markdown, javascript]"
   ]
  },
  {
   "cell_type": "code",
   "execution_count": 1,
   "metadata": {},
   "outputs": [
    {
     "name": "stdout",
     "output_type": "stream",
     "text": [
      "Welcome to the best stock pics in the NATION!\n"
     ]
    }
   ],
   "source": [
    "function logIt(output) {\n",
    "    console.log(output);\n",
    "}\n",
    "logIt(\"Welcome to the best stock pics in the NATION!\");"
   ]
  },
  {
   "cell_type": "code",
   "execution_count": 7,
   "metadata": {},
   "outputs": [
    {
     "data": {
      "text/html": [
       "<div style='display:inline-block;background:black;border: 2px solid grey;box-shadow: 0.8em 0.4em 0.4em grey;'><table><tr><th><mark>Ticker</mark></th><th><mark>Company</mark></th><th><mark>Price</mark></th></tr><tr><td>Qualcomm</td><td>QCOM</td><td>$120.40</td><tr><tr><td>TSLA</td><td>Telsa</td><td>$277.20</td><tr><tr><td>AAPL</td><td>Apple</td><td>$150.6</td><tr><tr><td>AMZN</td><td>Amazon</td><td>$115.20</td><tr><tr><td>LCID</td><td>Lucid</td><td>$14.50</td><tr><tr><td>RIVN</td><td>Rivian</td><td>$33.85</td><tr></table></div>"
      ]
     },
     "execution_count": 7,
     "metadata": {},
     "output_type": "execute_result"
    }
   ],
   "source": [
    "// define a function to hold data for a Person\n",
    "function Person(name, nationality, age) {\n",
    "    this.name = name;\n",
    "    this.nationality = nationality;\n",
    "    this.age = age;\n",
    "    this.role = \"\";\n",
    "}\n",
    "\n",
    "// define a setter for role in Person data\n",
    "Person.prototype.setRole = function(role) {\n",
    "    this.role = role;\n",
    "}\n",
    "\n",
    "// defines the manager\n",
    "var manager = new Person(\"Qualcomm\", \"QCOM\", \"$120.40\");\n",
    "manager.setRole(\"Manager\");\n",
    "\n",
    "// JSON conversion from object to a string\n",
    "Person.prototype.toJSON = function() {\n",
    "    const obj = {name: this.name, nationality: this.nationality, age: this.age, role: this.role};\n",
    "    const json = JSON.stringify(obj);\n",
    "    return json;\n",
    "}\n",
    "\n",
    "// player data\n",
    "var players = [\n",
    "    new Person(\"TSLA\", \"Telsa\", \"$277.20\"),\n",
    "    new Person(\"AAPL\", \"Apple\", \"$150.6\" ),\n",
    "    new Person(\"AMZN\", \"Amazon\", \"$115.20\"),\n",
    "    new Person(\"LCID\", \"Lucid\", \"$14.50\"),\n",
    "    new Person(\"RIVN\", \"Rivian\", \"$33.85\"),\n",
    "];\n",
    "\n",
    "\n",
    "var FUT = new Squad(manager, players);\n",
    "\n",
    "Squad.prototype._toHtml = function() {\n",
    "\n",
    "    var style = (\n",
    "        \"display:inline-block;\" +\n",
    "      \"background:black;\" +\n",
    "      \"border: 2px solid grey;\" +\n",
    "      \"box-shadow: 0.8em 0.4em 0.4em grey;\"\n",
    "    );\n",
    "\n",
    "// HTML Body of Table is build as a series of concatenations (+=)\n",
    "var body = \"\";\n",
    "// Heading for Array Columns\n",
    "body += \"<tr>\";\n",
    "body += \"<th><mark>\" + \"Ticker\" + \"</mark></th>\";\n",
    "body += \"<th><mark>\" + \"Company\" + \"</mark></th>\";\n",
    "body += \"<th><mark>\" + \"Price\" + \"</mark></th>\";\n",
    "body += \"</tr>\";\n",
    "// Data of Array, iterate through each row of lakers team\n",
    "for (var row of FUT.squad) {\n",
    "  // tr for each row, a new line\n",
    "  body += \"<tr>\";\n",
    "  // td for each column of data\n",
    "  body += \"<td>\" + row.name + \"</td>\";\n",
    "  body += \"<td>\" + row.nationality + \"</td>\";\n",
    "  body += \"<td>\" + row.age + \"</td>\";\n",
    "  // tr to end line\n",
    "  body += \"<tr>\";\n",
    "}\n",
    "\n",
    " // Build and HTML fragment of div, table, table body\n",
    "return (\n",
    "  \"<div style='\" + style + \"'>\" +\n",
    "    \"<table>\" +\n",
    "      body +\n",
    "    \"</table>\" +\n",
    "  \"</div>\"\n",
    "  );\n",
    "\n",
    "};\n",
    "\n",
    "// IJavaScript HTML processor receive parameter of defined HTML fragment\n",
    "$$.html(FUT._toHtml());\n"
   ]
  },
  {
   "cell_type": "markdown",
   "metadata": {},
   "source": [
    "## Our group created this table format, from there we added things we were interested in!"
   ]
  }
 ],
 "metadata": {
  "kernelspec": {
   "display_name": "JavaScript (Node.js)",
   "language": "javascript",
   "name": "javascript"
  },
  "language_info": {
   "file_extension": ".js",
   "mimetype": "application/javascript",
   "name": "javascript",
   "version": "6.11.2"
  },
  "orig_nbformat": 4,
  "vscode": {
   "interpreter": {
    "hash": "916dbcbb3f70747c44a77c7bcd40155683ae19c65e1c03b4aa3499c5328201f1"
   }
  }
 },
 "nbformat": 4,
 "nbformat_minor": 2
}
