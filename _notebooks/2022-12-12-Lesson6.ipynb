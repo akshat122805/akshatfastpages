{
 "cells": [
  {
   "attachments": {},
   "cell_type": "markdown",
   "metadata": {},
   "source": [
    "\n",
    "# Unit 3 Sections 12 and 13 lesson\n",
    "> Developing and Writing Procedures Lesson\n",
    "\n",
    "- title: Unit 3 Sections 12-13\n",
    "- toc: true\n",
    "- badges: false\n",
    "- categories: [3.12-3.13]\n",
    "- Libraries\n",
    "A library is a collection of precompiled codes that can be used later on in a program for some specific well-defined operations.\n",
    "These precompiled codes can be referred to as modules. Each module contains bundles of code that can be used repeatedly in different programs.\n",
    "\n",
    "A library may also contain documentation, configuration data, message templates, classes, and values, etc.\n",
    "Why are libraries important?\n",
    "Using Libraries makes Python Programming simpler and convenient for the programmer.\n",
    "One example would be through looping and iteration, as we don’t need to write the same code again and again for different programs.\n",
    "Python libraries play a very vital role in fields of Machine Learning, Data Science, Data Visualization, etc.\n",
    "A few libraries that simplify coding processes:\n",
    "\n",
    "Pillow allows you to work with images.\n",
    "Tensor Flow helps with data automation and monitors performance.\n",
    "Matplotlib allows you to make 2D graphs and plots.\n",
    "\n",
    "The AP Exam Refrence Sheet itself is a library!"
   ]
  },
  {
   "attachments": {},
   "cell_type": "markdown",
   "metadata": {},
   "source": [
    "# Hacks\n",
    "\n",
    "Research two other Python Libraries NOT DISCUSSED DURING LESSON and make a markdown post, explaining their function and how it helps programmers code.\n",
    "\n",
    "API’s\n",
    "An Application Program Interface, or API, contains specific direction for how the procedures in a library behave and can be used.\n",
    "An API acts as a gateway for the imported procedures from a library to interact with the rest of your code.\n",
    "Activity: Walkthrough with NumPy\n",
    "Install NumPy on VSCode:\n",
    "Open New Terminal In VSCode:\n",
    "pip3 install --upgrade pip\n",
    "pip install numpy\n",
    "REMEMBER: When running library code cells use Python Interpreter Conda (Version 3.9.12)"
   ]
  },
  {
   "cell_type": "code",
   "execution_count": 1,
   "metadata": {},
   "outputs": [
    {
     "name": "stdout",
     "output_type": "stream",
     "text": [
      "[[1 2 3]\n",
      " [4 5 6]\n",
      " [7 8 9]]\n"
     ]
    }
   ],
   "source": [
    "import numpy as np\n",
    "new_matrix = np.array([[1, 2, 3],[4, 5, 6],[7, 8, 9]])\n",
    " \n",
    "print (new_matrix)"
   ]
  },
  {
   "cell_type": "code",
   "execution_count": 2,
   "metadata": {},
   "outputs": [
    {
     "name": "stdout",
     "output_type": "stream",
     "text": [
      "Polynomial function, f(x):\n",
      "    2\n",
      "2 x + 1\n",
      "Derivative, f(x)'=  \n",
      "4 x\n",
      "When x=5  f(x)'= 20\n"
     ]
    }
   ],
   "source": [
    "import numpy as np\n",
    " \n",
    "# defining polynomial function\n",
    "var = np.poly1d([2, 0, 1])\n",
    "print(\"Polynomial function, f(x):\\n\", var)\n",
    " \n",
    "# calculating the derivative\n",
    "derivative = var.deriv()\n",
    "print(\"Derivative, f(x)'=\", derivative)\n",
    " \n",
    "# calculates the derivative of after\n",
    "# given value of x\n",
    "print(\"When x=5  f(x)'=\", derivative(5))"
   ]
  },
  {
   "attachments": {},
   "cell_type": "markdown",
   "metadata": {},
   "source": [
    "# Random Values\n",
    "Random number generation (RNG) produces a random number (crazy right?)\n",
    "This means that a procedure with RNG can return different values even if the parameters (inputs) do not change\n",
    "\n",
    "CollegeBoard uses RANDOM(A, B), to return an integer between integers A and B.\n",
    "RANDOM(1, 10) can output 1, 2, 3, 4, 5, 6, 7, 8, 9, or 10\n",
    "\n",
    "In Python, this would be random.randint(A, B), after importing Python's \"random\" library (import random)\n",
    "\n",
    "JavaScript's works a little differently, with Math.random() returning a value between 0 and 1.\n",
    "\n",
    "To match Python and CollegeBoard, you could make a procedure like this"
   ]
  },
  {
   "cell_type": "code",
   "execution_count": 12,
   "metadata": {},
   "outputs": [
    {
     "data": {
      "text/plain": [
       "13"
      ]
     },
     "execution_count": 12,
     "metadata": {},
     "output_type": "execute_result"
    }
   ],
   "source": [
    "import random \n",
    "\n",
    "def Dice(n):\n",
    "    sum = 0\n",
    "    while n !=0:\n",
    "        sum = sum + random.randint(1,6)\n",
    "        n = n - 1\n",
    "    return sum\n",
    "\n",
    "Dice(5)"
   ]
  }
 ],
 "metadata": {
  "kernelspec": {
   "display_name": "base",
   "language": "python",
   "name": "python3"
  },
  "language_info": {
   "codemirror_mode": {
    "name": "ipython",
    "version": 3
   },
   "file_extension": ".py",
   "mimetype": "text/x-python",
   "name": "python",
   "nbconvert_exporter": "python",
   "pygments_lexer": "ipython3",
   "version": "3.9.12"
  },
  "orig_nbformat": 4,
  "vscode": {
   "interpreter": {
    "hash": "e7a42f898bd6558739d9efcab6315e27b1f4d067788c5506f4b776d0ba82514c"
   }
  }
 },
 "nbformat": 4,
 "nbformat_minor": 2
}
