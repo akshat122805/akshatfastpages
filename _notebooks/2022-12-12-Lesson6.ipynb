{
 "cells": [
  {
   "attachments": {},
   "cell_type": "markdown",
   "metadata": {},
   "source": [
    "# Student Teaching Lesson 3.14 & 3.15\n",
    "> Student Teaching Notes and Homework (3.14 - 3.15)\n",
    "\n",
    "- layout: default\n",
    "- comments: true\n",
    "- toc: true\n",
    "- permalink: /lesson14-15\n",
    "- categories: [Student Teaching Portfolio]"
   ]
  },
  {
   "cell_type": "markdown",
   "metadata": {},
   "source": [
    "<style>\n",
    "    .coolCode {\n",
    "        color: #FFFFFF;\n",
    "        font-family: monospace;\n",
    "        border: 1px solid #404040;\n",
    "        border-radius: 3px;\n",
    "        background-color: #212121;\n",
    "        padding: 1px 5px;\n",
    "        font-size: 20px\n",
    "    }\n",
    "</style>"
   ]
  },
  {
   "cell_type": "markdown",
   "metadata": {},
   "source": [
    "### wget https://raw.githubusercontent.com/aidenhuynh/CS_Swag/master/_notebooks/2022-11-30-randomvalues.ipynb\n",
    "\n",
    "# Libraries\n",
    "\n",
    "* A library is a collection of precompiled codes that can be used later on in a program for some specific well-defined operations. \n",
    "* These precompiled codes can be referred to as modules. Each module contains bundles of code that can be used repeatedly in different programs.\n",
    "* A library may also contain documentation, configuration data, message templates, classes, and values, etc.\n",
    "\n",
    "### Why are libraries important?\n",
    "* Using Libraries makes Python Programming simpler and convenient for the programmer. \n",
    "* One example would be through looping and iteration, as we don’t need to write the same code again and again for different programs. \n",
    "* Python libraries play a very vital role in fields of Machine Learning, Data Science, Data Visualization, etc.\n",
    "\n",
    "### A few libraries that simplify coding processes:\n",
    "* **Pillow** allows you to work with images.\n",
    "* **Tensor Flow** helps with data automation and monitors performance.\n",
    "* **Matplotlib** allows you to make 2D graphs and plots.\n",
    "\n",
    "The AP Exam Refrence Sheet itself is a library!\n",
    "![Screenshot 2022-12-11 221853](https://user-images.githubusercontent.com/51098969/206974627-af98327c-d95d-4459-be67-cbaa3faaaa98.jpg)\n",
    "\n",
    "## Hacks:\n",
    "Research two other Python Libraries NOT DISCUSSED DURING LESSON and make a markdown post, explaining their function and how it helps programmers code.\n",
    "\n",
    "### API’s\n",
    "* An Application Program Interface, or API, contains specific direction for how the procedures in a library behave and can be used. \n",
    "* An API acts as a gateway for the imported procedures from a library to interact with the rest of your code.\n",
    "\n",
    "### Activity: Walkthrough with NumPy\n",
    "Install NumPy on VSCode:\n",
    "Open New Terminal In VSCode:\n",
    "pip3 install --upgrade pip\n",
    "pip install numpy \n",
    " \n",
    "REMEMBER: When running library code cells use Python Interpreter Conda (Version 3.9.12)\n",
    " \n",
    "### Example of using NumPy for arrays:"
   ]
  },
  {
   "cell_type": "code",
   "execution_count": null,
   "metadata": {},
   "outputs": [
    {
     "name": "stdout",
     "output_type": "stream",
     "text": [
      "[[1 2 3]\n",
      " [4 5 6]\n",
      " [7 8 9]]\n"
     ]
    }
   ],
   "source": [
    "import numpy as np\n",
    "new_matrix = np.array([[1, 2, 3],[4, 5, 6],[7, 8, 9]])\n",
    " \n",
    "print (new_matrix)"
   ]
  },
  {
   "cell_type": "markdown",
   "metadata": {},
   "source": [
    "#### Example of using NumPy for derivatives:"
   ]
  },
  {
   "cell_type": "code",
   "execution_count": 27,
   "metadata": {},
   "outputs": [
    {
     "name": "stdout",
     "output_type": "stream",
     "text": [
      "Polynomial function, f(x):  \n",
      "2 x + 1\n",
      "Derivative, f(x)'=  \n",
      "2\n",
      "When x=5  f(x)'= 2\n"
     ]
    }
   ],
   "source": [
    "import numpy as np\n",
    " \n",
    "# defining polynomial function\n",
    "var = np.poly1d([2, 1])\n",
    "print(\"Polynomial function, f(x):\", var)\n",
    " \n",
    "# calculating the derivative\n",
    "derivative = var.deriv()\n",
    "print(\"Derivative, f(x)'=\", derivative)\n",
    " \n",
    "# calculates the derivative of after\n",
    "# given value of x\n",
    "print(\"When x=5  f(x)'=\", derivative(5))"
   ]
  },
  {
   "cell_type": "markdown",
   "metadata": {},
   "source": [
    "## Random Values\n",
    "\n",
    "* Random number generation (RNG) produces a random number (crazy right?)\n",
    "    - This means that a procedure with RNG can return different values even if the parameters (inputs) do not change\n",
    "* CollegeBoard uses <code class=\"coolCode\">RANDOM(A, B)</code>, to return an integer between integers <code class=\"coolCode\">A</code> and <code class=\"coolCode\">B</code>.\n",
    "    - RANDOM(1, 10) can output 1, 2, 3, 4, 5, 6, 7, 8, 9, or 10\n",
    "    - In Python, this would be <code class=\"coolCode\">random.randint(A, B)</code>, after importing Python's \"random\" library (<code class=\"coolCode\">import random</code>)\n",
    "    - JavaScript's works a little differently, with <code class=\"coolCode\">Math.random()</code> returning a value between 0 and 1.\n",
    "        - To match Python and CollegeBoard, you could make a procedure like [this](https://stackoverflow.com/a/7228322)\n",
    "\n",
    "#### CollegeBoard Example: What is the possible range of values for *answ3*\n",
    "![CollegeBoard](https://i.ibb.co/Wt90Hbz/Screen-Shot-2022-12-12-at-7-27-58-AM.png)\n"
   ]
  },
  {
   "cell_type": "markdown",
   "metadata": {},
   "source": [
    "#### Convert the following procedure to Python, then determine the range of outputs if n = 5.\n",
    "<pre>\n",
    "<font color=white>\n",
    "PROCEDURE Dice(n)\n",
    "\tsum ← 0\n",
    "\tREPEAT UNTIL n = 0\n",
    "\t\tsum ← sum + RANDOM(1, 6)\n",
    "\t\tn ← n - 1\n",
    "\tRETURN sum\n",
    "</font>\n",
    "</pre>\n"
   ]
  },
  {
   "cell_type": "code",
   "execution_count": 28,
   "metadata": {},
   "outputs": [
    {
     "data": {
      "text/plain": [
       "17"
      ]
     },
     "execution_count": 28,
     "metadata": {},
     "output_type": "execute_result"
    }
   ],
   "source": [
    "import random # Fill in the blank\n",
    "\n",
    "def Dice(n):\n",
    "    sum = 0\n",
    "    while n != 0:\n",
    "        sum = sum + random.randint(1, 6)\n",
    "        n = n - 1\n",
    "    return sum\n",
    "    \n",
    "Dice(5) # Will output a range of 5 to 30"
   ]
  },
  {
   "attachments": {},
   "cell_type": "markdown",
   "metadata": {},
   "source": [
    "## Homework\n",
    "1. Write a procedure that generates *n* random numbers, then sorts those numbers into lists of even and odd numbers (JS or Python, Python will be easier).\n",
    "\n",
    "2. Using NumPy and only coding in python cell, find the answer to the following questions:\n",
    "    a. What is the derivative of 2x^5 - 6x^2 + 24x?\n",
    "    b. What is the derivative of (13x^4 + 4x^2) / 2 when x = 9? \n",
    "\n",
    "3. Suppose you have a group of 10 dogs and 10 cats, and you want to create a random order for them. Show how random number generation could be used to create this random order."
   ]
  },
  {
   "attachments": {},
   "cell_type": "markdown",
   "metadata": {},
   "source": [
    "# Homework (part 1)"
   ]
  },
  {
   "cell_type": "code",
   "execution_count": 1,
   "metadata": {},
   "outputs": [],
   "source": [
    "import random\n",
    "\n",
    "def sort_random_numbers(n: int) -> tuple:\n",
    "    # Generate n random numbers\n",
    "    numbers = [random.randint(0, 100) for _ in range(n)]\n",
    "\n",
    "    # Sort numbers into even and odd lists\n",
    "    even_numbers = [x for x in numbers if x % 2 == 0]\n",
    "    odd_numbers = [x for x in numbers if x % 2 == 1]\n",
    "\n",
    "    return (even_numbers, odd_numbers)"
   ]
  },
  {
   "cell_type": "code",
   "execution_count": 2,
   "metadata": {},
   "outputs": [
    {
     "name": "stdout",
     "output_type": "stream",
     "text": [
      "[66, 72, 98, 76, 56, 94]\n",
      "[59, 43, 15, 35]\n"
     ]
    }
   ],
   "source": [
    "even_numbers, odd_numbers = sort_random_numbers(10)\n",
    "print(even_numbers)  # [2, 8, 12, 28, 60, 82] (example)\n",
    "print(odd_numbers)   # [1, 3, 5, 7, 11, 13] (example)"
   ]
  },
  {
   "attachments": {},
   "cell_type": "markdown",
   "metadata": {},
   "source": [
    "## Homework (part 2)"
   ]
  },
  {
   "cell_type": "code",
   "execution_count": 5,
   "metadata": {},
   "outputs": [
    {
     "name": "stdout",
     "output_type": "stream",
     "text": [
      "   3\n",
      "8 x - 12 x + 24\n"
     ]
    }
   ],
   "source": [
    "import numpy as np\n",
    "#LMAOOO i just used coefficient, this work tho fr\n",
    "p = np.poly1d([2, 0, -6, 24, 0])\n",
    "\n",
    "derivative = p.deriv()\n",
    "\n",
    "# Printing the final derivative boys\n",
    "print(derivative)"
   ]
  },
  {
   "cell_type": "code",
   "execution_count": 8,
   "metadata": {},
   "outputs": [
    {
     "name": "stdout",
     "output_type": "stream",
     "text": [
      "37980\n"
     ]
    }
   ],
   "source": [
    "import numpy as np\n",
    "\n",
    "def calculate_derivative(x: float):\n",
    "  poly = np.array([13, 0, 4, 0, 0])\n",
    "\n",
    "  derivative = np.polyder(poly)\n",
    "\n",
    "  result = np.polyval(derivative, 9)\n",
    "\n",
    "  return result\n",
    "\n",
    "print(calculate_derivative(9))"
   ]
  },
  {
   "attachments": {},
   "cell_type": "markdown",
   "metadata": {},
   "source": [
    "# Homework (part 3)\n"
   ]
  },
  {
   "cell_type": "code",
   "execution_count": 1,
   "metadata": {},
   "outputs": [
    {
     "name": "stdout",
     "output_type": "stream",
     "text": [
      "Blue 7\n",
      "Blue 10\n",
      "Blue 5\n",
      "Blue 9\n",
      "Blue 6\n",
      "Red 10\n",
      "Red 6\n",
      "Red 8\n",
      "Blue 1\n",
      "Blue 4\n",
      "Blue 8\n",
      "Red 1\n",
      "Red 9\n",
      "Blue 1\n",
      "Red 2\n",
      "Blue 3\n",
      "Red 7\n",
      "Red 4\n",
      "Red 5\n",
      "Red 3\n"
     ]
    }
   ],
   "source": [
    "\n",
    "import random\n",
    "\n",
    "\n",
    "dogs = ['Blue 1', 'Blue 1', 'Blue 3', 'Blue 4', 'Blue 5', 'Blue 6', 'Blue 7', 'Blue 8', 'Blue 9', 'Blue 10']\n",
    "cats = ['Red 1', 'Red 2', 'Red 3', 'Red 4', 'Red 5', 'Red 6', 'Red 7', 'Red 8', 'Red 9', 'Red 10']\n",
    "\n",
    "colors = []\n",
    "for blue in dogs:\n",
    "    colors.append((blue, random.randint(1, 20)))\n",
    "for red in cats:\n",
    "    colors.append((red, random.randint(1, 20)))\n",
    "\n",
    "colors.sort(key=lambda x: x[1])\n",
    "\n",
    "for color in colors:\n",
    "    print(color[0])"
   ]
  }
 ],
 "metadata": {
  "kernelspec": {
   "display_name": "base",
   "language": "python",
   "name": "python3"
  },
  "language_info": {
   "codemirror_mode": {
    "name": "ipython",
    "version": 3
   },
   "file_extension": ".py",
   "mimetype": "text/x-python",
   "name": "python",
   "nbconvert_exporter": "python",
   "pygments_lexer": "ipython3",
   "version": "3.9.12"
  },
  "orig_nbformat": 4,
  "vscode": {
   "interpreter": {
    "hash": "e7a42f898bd6558739d9efcab6315e27b1f4d067788c5506f4b776d0ba82514c"
   }
  }
 },
 "nbformat": 4,
 "nbformat_minor": 2
}
