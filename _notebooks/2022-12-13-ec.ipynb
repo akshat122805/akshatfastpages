{
 "cells": [
  {
   "attachments": {},
   "cell_type": "markdown",
   "metadata": {},
   "source": [
    "# Guest Speakers | Kathyleen Beveridge & Kris Porter\n",
    "- toc: true\n",
    "- comments: true\n",
    "- title: Guest Speakers | Kathyleen Beveridge & Kris Porter\n",
    "- layout: post\n",
    "- description: An insight on professionals who working in High-Tech\n",
    "- categories: [markdown]"
   ]
  },
  {
   "attachments": {},
   "cell_type": "markdown",
   "metadata": {},
   "source": [
    "# Notes\n",
    "\n",
    "Kathyleen Beveridge is a high-tech professional at Qualcomm, she earned her bachelor's degree at Santa Clara, where she pursued finance and became an investment banker. She soon did not like the work that she was doing with mergers and acquisitions and so she earned her masters degree at USC. Kathyleen’s favorite poet is Maya Angelou, she looks up to her as a role model. Kathyleen worked at HP as well. High-tech influenced Kathyleen because it had a macro/global impact for the services she was developing with her colleagues (for example, every day 1 billion people benefited from Qualcomm). Katyleen worked at Qualcomm and eventually became director of sales operations, she worked at Qualcomm for 14 years. Katyleen now works at Thermo Scientific Fisher, which has 100,000 employees and billions of dollars in revenue. Thermo Fisher Scientific Inc. is an American supplier of scientific instrumentation, reagents and consumables, and software services.\n",
    "\n",
    "Kathyleen is the senior director of marketing and global commerce at Thermo Fisher Scientific, her job is to attract clients and grow the company overall in terms of business and sales. Kathyleen speaks about the voice of sales and how anyone can develop a concept and build it in a way where it can impact the world in a different way. \n",
    "\n",
    "Kris Porter is a software engineer who specializes in DevOps and infrastructure engineering. Kris enrolled at UCLA for electrical engineering for a Bachelor's degree. Kris didn’t know anything about coding and even failed his CS class in his second semester at UCLA, he ended up retaking and soon would go on to like computer science. Kris graduated when the stock market crashed in 2008 so it was really hard to find a job. Kris did his masters degree at CSU Los Angeles and took his first job as a systems engineer at Griffith Park Media. He took on another job at NBC in which he was responsible for the operation and maintenance of production servers and edit stations. Kris joined a startup at LocationSmart in which he was a DevOps engineer where he was responsible for mostly engineering duties and operations. Mr. Mort then hired Kris and he worked at Qualcomm as a senior software engineer where he expertised on several different concepts such as user experience. Kris worked at Twitter for 2 years. One of Kris’s projects was network info mechanical systems which used robotics and AI to create a cool sensor reading. Kris also learned Linux. \n",
    "\n",
    "Kris learned about python, data structures, machine learning and deep learning, CCNA, and Twitter University. Some other projects Kris worked on was an analytics infrastructure protocol. Some of his Twitter projects include building a new data center and working on GraphQL.Kris is now pursuing a web3 infrastructure startup which leads him into a new direction in his career. \n"
   ]
  }
 ],
 "metadata": {
  "language_info": {
   "name": "python"
  },
  "orig_nbformat": 4
 },
 "nbformat": 4,
 "nbformat_minor": 2
}
