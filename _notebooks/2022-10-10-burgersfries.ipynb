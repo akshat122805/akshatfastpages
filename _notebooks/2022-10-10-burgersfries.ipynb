{
 "cells": [
  {
   "cell_type": "markdown",
   "metadata": {},
   "source": [
    "# Burger, Fries, Drink, and more python challenge!"
   ]
  },
  {
   "cell_type": "code",
   "execution_count": 2,
   "metadata": {},
   "outputs": [
    {
     "name": "stdout",
     "output_type": "stream",
     "text": [
      "Menu\n",
      "burger  $3.99\n",
      "fries  $1.99\n",
      "drink  $0.99\n",
      "salad  $4.99\n",
      "toast  $2.99\n",
      "Item ordered: \n",
      "Try choosing your item again.\n",
      "Item ordered: \n",
      "Try choosing your item again.\n",
      "Item ordered: \n",
      "Try choosing your item again.\n",
      "Item ordered: \n",
      "Try choosing your item again.\n",
      "Item ordered: \n",
      "Try choosing your item again.\n",
      "Item ordered: \n",
      "Try choosing your item again.\n",
      "Item ordered: \n",
      "Try choosing your item again.\n",
      "Item ordered: \n",
      "Try choosing your item again.\n",
      "Item ordered: \n",
      "Try choosing your item again.\n",
      "Item ordered: \n",
      "Try choosing your item again.\n",
      "Item ordered: \n",
      "Try choosing your item again.\n",
      "Item ordered: \n",
      "Try choosing your item again.\n",
      "Item ordered: \n",
      "Try choosing your item again.\n",
      "Item ordered: \n",
      "Try choosing your item again.\n",
      "Item ordered: \n",
      "Try choosing your item again.\n",
      "Item ordered: \n",
      "Try choosing your item again.\n",
      "Item ordered: \n",
      "Try choosing your item again.\n",
      "Item ordered: \n",
      "Try choosing your item again.\n",
      "Item ordered: \n",
      "Try choosing your item again.\n",
      "Item ordered: drink]\n",
      "Try choosing your item again.\n",
      "Item ordered: water\n",
      "Try choosing your item again.\n",
      "Item ordered: toast\n",
      "Your total order is $ 2.99\n",
      "Item ordered: salad\n",
      "Your total order is $ 4.99\n",
      "Item ordered: burger\n",
      "Your total order is $ 3.99\n"
     ]
    }
   ],
   "source": [
    "menu =  {\"burger\": 3.99,\n",
    "         \"fries\": 1.99,\n",
    "         \"drink\": 0.99,\n",
    "         \"salad\": 4.99,\n",
    "         \"toast\": 2.99}\n",
    "total = 0\n",
    "\n",
    "#shows the user the menu and prompts them to select an item\n",
    "print(\"Menu\")\n",
    "for k,v in menu.items():\n",
    "    print(k + \"  $\" + str(v)) #why does v have \"str\" in front of it?\n",
    "\n",
    "#ideally the code should prompt the user multiple times\n",
    "while total < 3:\n",
    "    item = input(\"Please select 3 items from the menu\")\n",
    "    print(\"Item ordered:\", item.lower())\n",
    "    for k,v in menu.items():\n",
    "        if item.lower() == k:\n",
    "            print(\"Your total order is $\", menu[item.lower()])\n",
    "            total = (total + 1)\n",
    "            break\n",
    "\n",
    "    if item.lower() != k:\n",
    "        print(\"Try choosing your item again.\")\n",
    "        continue\n",
    "\n",
    "#code should add the price of the menu items selected by the user "
   ]
  }
 ],
 "metadata": {
  "kernelspec": {
   "display_name": "Python 3.8.10 64-bit",
   "language": "python",
   "name": "python3"
  },
  "language_info": {
   "codemirror_mode": {
    "name": "ipython",
    "version": 3
   },
   "file_extension": ".py",
   "mimetype": "text/x-python",
   "name": "python",
   "nbconvert_exporter": "python",
   "pygments_lexer": "ipython3",
   "version": "3.8.10"
  },
  "orig_nbformat": 4,
  "vscode": {
   "interpreter": {
    "hash": "916dbcbb3f70747c44a77c7bcd40155683ae19c65e1c03b4aa3499c5328201f1"
   }
  }
 },
 "nbformat": 4,
 "nbformat_minor": 2
}
