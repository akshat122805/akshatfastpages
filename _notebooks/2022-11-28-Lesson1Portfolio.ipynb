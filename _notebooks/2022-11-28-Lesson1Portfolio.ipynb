{
 "cells": [
  {
   "attachments": {},
   "cell_type": "markdown",
   "metadata": {},
   "source": [
    "# Lesson 3.1 Notes, Activities, and Homework\n",
    "- title: Lesson 3.1 Notes\n",
    "- toc: true\n",
    "- comments: true\n",
    "- categories: [3.1-3.2]"
   ]
  },
  {
   "attachments": {},
   "cell_type": "markdown",
   "metadata": {},
   "source": [
    "\n",
    "# Variables, Assignments, Data Abstraction\n",
    "\n",
    "\n",
    "A variable is an abstraction that can hold inside a program and hold the value. \n",
    "\n",
    "Contains three parts:\n",
    "- Name\n",
    "- Value\n",
    "- Type\n",
    "\n",
    "Name variables are short and not as specific. Do not make your code for variables too complicated because it can become messy. However, do not make your variables too vague. \n",
    "\n",
    "Types of data:\n",
    "- Integer\n",
    "- Text/string\n",
    "- Boolean\n",
    "\n",
    "Strings consist of a key word, the second variables would be considered as integers as it would display a number. The third variable would be a boolean because it shows if anything is true or false.\n",
    "\n",
    "A list of data can also be stored in variables. This is useful as it can print/retrieve specific values n the list without creating lots of variables. \n",
    "\n",
    "## Assignments\n",
    "\n",
    "Operators that allow the program to change the value represented by a variable. \n",
    "\n",
    "Some operators:\n",
    "- = (assigns both right and left) (a=b)\n",
    "- += (a+b=ab)\n",
    "- -= (a-b=a-b)\n",
    "- and so on\n",
    "\n",
    "The value stored in a variable will be the most recent value assigned. \n",
    "\n",
    "Changing Values: Change any value, but the most recent value will be the output. \n",
    "\n",
    "## Data Abstraction\n",
    "\n",
    "Data abstraction is a method used in coding to represent data in useful forms in applicable scenarios. \n",
    "\n",
    "Data abstraction has tools likes variables and lists which are very important. \n",
    "\n",
    "## Lists and Strings\n",
    "\n",
    "A list is an ordered sequence of elements, an element is a specific value in that list to a unique index. An index is a reference to the elements in the string.\n",
    "\n",
    "A string is a ordered sequence of characters. \n",
    "\n",
    "Example of a list:\n",
    "EXAMPLE - WE USE COLORS:\n",
    "\n",
    "colorsList=[\"pink\", \"yellow\", \"green\", \"blue, \"orange\", \"purple\"]\n",
    "\n",
    "print(colorsList)\n",
    "\n",
    "^ Now it will print the colors and the list you defined along with the specific colors, which are the elements. \n",
    "\n",
    "NOTE: Index always starts at ONE on AP Exam\n",
    "\n",
    "## Managing Complexity\n",
    "- Makes code more clear\n",
    "- Updates data easily\n",
    "\n",
    "There is only one other way for interchanging data between lists, and that is to completely overwrite previous data in the list. \n",
    "\n"
   ]
  },
  {
   "cell_type": "markdown",
   "metadata": {},
   "source": [
    "# Lesson Activities"
   ]
  },
  {
   "cell_type": "markdown",
   "metadata": {},
   "source": [
    "![]({{site.baseurl}}/images/lesson4.png \"https://github.com/fastai/fastpages\")\n",
    "\n",
    "![]({{site.baseurl}}/images/lesson5.png \"https://github.com/fastai/fastpages\")\n",
    "\n",
    "![]({{site.baseurl}}/images/lesson6.png \"https://github.com/fastai/fastpages\")\n",
    "\n",
    "![]({{site.baseurl}}/images/lesson7.png \"https://github.com/fastai/fastpages\")\n",
    "\n",
    "\n"
   ]
  },
  {
   "cell_type": "code",
   "execution_count": 1,
   "metadata": {},
   "outputs": [
    {
     "name": "stdout",
     "output_type": "stream",
     "text": [
      "['pink', 'yellow', 'green', 'blue', 'orange']\n"
     ]
    }
   ],
   "source": [
    "colorsList=[\"pink\", \"yellow\", \"green\", \"blue\", \"orange\"]\n",
    "\n",
    "print(colorsList)"
   ]
  },
  {
   "cell_type": "code",
   "execution_count": 4,
   "metadata": {},
   "outputs": [
    {
     "name": "stdout",
     "output_type": "stream",
     "text": [
      "USA\n",
      "England\n",
      "France\n",
      "Italy\n",
      "Portugal\n",
      "Argentina\n",
      "Germany\n",
      "Japan\n"
     ]
    }
   ],
   "source": [
    "team1=\"USA\"\n",
    "team2=\"England\"\n",
    "team3=\"France\"\n",
    "team4=\"Italy\"\n",
    "team5=\"Portugal\"\n",
    "team6=\"Argentina\"\n",
    "team7 = \"Germany\"\n",
    "team8 = \"Japan\"\n",
    "\n",
    "print(team1)\n",
    "print(team2)\n",
    "print(team3)\n",
    "print(team4)\n",
    "print(team5)\n",
    "print(team6)\n",
    "print(team7)\n",
    "print(team8)"
   ]
  },
  {
   "cell_type": "code",
   "execution_count": 3,
   "metadata": {},
   "outputs": [
    {
     "name": "stdout",
     "output_type": "stream",
     "text": [
      "['green', 'red', 'pink', 'purple', 'blue', 'brown']\n"
     ]
    }
   ],
   "source": [
    "colorList=[\"green\", \"red\", \"pink\", \"purple\", \"blue\", \"brown\"]\n",
    "\n",
    "print(str(colorList))"
   ]
  },
  {
   "cell_type": "markdown",
   "metadata": {},
   "source": [
    "# HOMEWORK"
   ]
  },
  {
   "cell_type": "code",
   "execution_count": 7,
   "metadata": {},
   "outputs": [
    {
     "name": "stdout",
     "output_type": "stream",
     "text": [
      "Hello, akshat1228!\n",
      "\t You will be asked 7 questions on cars.\n",
      "Question: Whats the most expensive car in the world?\n",
      "\t Mercedes Benz 300 SLR - $142,000,000 is correct!\n",
      "Question: Which company owns Rolls Royce?\n",
      "\t BMW is correct!\n",
      "Question: What is the biggest electric car company?\n",
      "\t Tesla is correct!\n",
      "Question: What company owns Jaguar?\n",
      "\t TATA Motors is correct!\n",
      "Question: Whose the best F1 Racer?\n",
      "\t Max Verstappen is correct!\n",
      "Question: Who is the F1 G.O.A.T?\n",
      "\t Lewis Hamilton is correct!\n",
      "Question: What company owns Corvette?\n",
      "\t GM is correct!\n",
      "akshat1228 you scored 7/7!!\n",
      "Here is a record of your quiz:\n",
      "For loop output\n",
      "\n",
      "Question 1: Mercedes Benz 300 SLR - $142,000,000\n",
      "Question 2: BMW\n",
      "Question 3: Tesla\n",
      "Question 4: TATA Motors\n",
      "Question 5: Max Verstappen\n"
     ]
    }
   ],
   "source": [
    "import getpass, sys\n",
    "\n",
    "questions = 7\n",
    "correct = 0   \n",
    "\n",
    "print('Hello, ' + getpass.getuser() + '!')\n",
    "print(\"\\t\", \"You will be asked \" + str(questions) + \" questions on cars.\")\n",
    "\n",
    "def question_and_answer(prompt, answer):\n",
    "    print(\"Question: \" + prompt) \n",
    "    rsp = input() \n",
    "    \n",
    "    if rsp == answer :\n",
    "        print(\"\\t\", rsp + \" is correct!\")\n",
    "        global correct\n",
    "        correct += 1\n",
    "    else:\n",
    "        print (\"\\t\", rsp + \" is incorrect!\")\n",
    "    return rsp\n",
    "\n",
    "Question_1 = question_and_answer(\"Whats the most expensive car in the world?\", \"Mercedes Benz 300 SLR - $142,000,000\")\n",
    "Question_2 = question_and_answer(\"Which company owns Rolls Royce?\", \"BMW\")\n",
    "Question_3 = question_and_answer(\"What is the biggest electric car company?\", \"Tesla\")\n",
    "Question_4 = question_and_answer(\"What company owns Jaguar?\", \"TATA Motors\")\n",
    "Question_5 = question_and_answer(\"Whose the best F1 Racer?\", \"Max Verstappen\")\n",
    "Question_6 = question_and_answer(\"Who is the F1 G.O.A.T?\", \"Lewis Hamilton\")\n",
    "Question_7 = question_and_answer(\"What company owns Corvette?\", \"GM\")\n",
    "\n",
    "print(getpass.getuser() + \" you scored \" + str(correct) +\"/\" + str(questions) + \"!!\")\n",
    "\n",
    "Quiz = []\n",
    "\n",
    "Quiz.append({\n",
    "    \"Q_1\": Question_1,\n",
    "    \"Q_2\": Question_2,\n",
    "    \"Q_3\": Question_3,\n",
    "    \"Q_4\": Question_4,\n",
    "    \"Q_5\": Question_5,\n",
    "    \"Q_6\": Question_6,\n",
    "    \"Q_7\": Question_7\n",
    "\n",
    "})\n",
    "\n",
    "#List Implementation \n",
    "def print_data(d_rec):\n",
    "    print(\"Question 1:\", d_rec[\"Q_1\"]) \n",
    "    print(\"Question 2:\", d_rec[\"Q_2\"]) \n",
    "    print(\"Question 3:\", d_rec[\"Q_3\"])\n",
    "    print(\"Question 4:\", d_rec[\"Q_4\"])\n",
    "    print(\"Question 5:\", d_rec[\"Q_5\"], end=\"\")  \n",
    "    print()\n",
    "\n",
    "print(\"Here is a record of your quiz:\")\n",
    "def for_loop():\n",
    "    print(\"For loop output\\n\")\n",
    "    for record in Quiz:\n",
    "        print_data(record)\n",
    "\n",
    "for_loop()"
   ]
  }
 ],
 "metadata": {
  "kernelspec": {
   "display_name": "Python 3.8.10 64-bit",
   "language": "python",
   "name": "python3"
  },
  "language_info": {
   "codemirror_mode": {
    "name": "ipython",
    "version": 3
   },
   "file_extension": ".py",
   "mimetype": "text/x-python",
   "name": "python",
   "nbconvert_exporter": "python",
   "pygments_lexer": "ipython3",
   "version": "3.8.10 (default, Jun 22 2022, 20:18:18) \n[GCC 9.4.0]"
  },
  "orig_nbformat": 4,
  "vscode": {
   "interpreter": {
    "hash": "916dbcbb3f70747c44a77c7bcd40155683ae19c65e1c03b4aa3499c5328201f1"
   }
  }
 },
 "nbformat": 4,
 "nbformat_minor": 2
}
