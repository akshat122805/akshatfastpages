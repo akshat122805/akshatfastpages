{
 "cells": [
  {
   "cell_type": "markdown",
   "metadata": {},
   "source": [
    "# Python Quiz\n",
    "> NFL Quiz\n",
    "- toc: true \n",
    "- badges: true\n",
    "- comments: true\n",
    "- categories: [jupyter]"
   ]
  },
  {
   "cell_type": "code",
   "execution_count": 3,
   "metadata": {},
   "outputs": [
    {
     "name": "stdout",
     "output_type": "stream",
     "text": [
      "Question: What team is based in Seattle?\n",
      "Answer: Seahawks\n",
      "Correct Answer\n",
      "Question: What team is based in Pittsburgh\n",
      "Answer: Steelers\n",
      "Correct Answer\n",
      "Question: Who is the QB for the Green Bay Packers?\n",
      "Answer: Aaron Rodgers\n",
      "Correct Answer\n",
      "Question: What team won the 2022 Superbowl?\n",
      "Answer: L.A Rams\n",
      "Correct Answer\n",
      "Question: Who is the G.O.A.T?\n",
      "Answer: Mitch Trubisky\n",
      "Correct Answer\n",
      "5 Answers correct\n"
     ]
    }
   ],
   "source": [
    "import getpass, sys\n",
    "\n",
    "questions = 5\n",
    "correct = 0\n",
    "\n",
    "def question_and_answer(prompt, answer):\n",
    "    print(\"Question: \" + prompt)\n",
    "    msg = input()\n",
    "    print(\"Answer: \" + msg)\n",
    "\n",
    "    if answer == msg:\n",
    "        print(\"Correct Answer\")\n",
    "        global correct\n",
    "        correct+=1\n",
    "    else:\n",
    "        print (\"Incorrect Answer\")\n",
    " \n",
    "question_and_answer(\"What team is based in Seattle?\", \"Seahawks\")\n",
    "question_and_answer(\"What team is based in Pittsburgh\", \"Steelers\")\n",
    "question_and_answer(\"Who is the QB for the Green Bay Packers?\", \"Aaron Rodgers\")\n",
    "question_and_answer(\"What team won the 2022 Superbowl?\", \"L.A Rams\")\n",
    "question_and_answer(\"Who is the G.O.A.T?\", \"Mitch Trubisky\")\n",
    "\n",
    "\n",
    "print(correct, \"Answers correct\")"
   ]
  }
 ],
 "metadata": {
  "kernelspec": {
   "display_name": "Python 3.9.12 ('base')",
   "language": "python",
   "name": "python3"
  },
  "language_info": {
   "codemirror_mode": {
    "name": "ipython",
    "version": 3
   },
   "file_extension": ".py",
   "mimetype": "text/x-python",
   "name": "python",
   "nbconvert_exporter": "python",
   "pygments_lexer": "ipython3",
   "version": "3.9.12"
  },
  "orig_nbformat": 4,
  "vscode": {
   "interpreter": {
    "hash": "e7a42f898bd6558739d9efcab6315e27b1f4d067788c5506f4b776d0ba82514c"
   }
  }
 },
 "nbformat": 4,
 "nbformat_minor": 2
}
