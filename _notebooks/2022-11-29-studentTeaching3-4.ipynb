{
 "cells": [
  {
   "cell_type": "markdown",
   "metadata": {},
   "source": [
    "# Student Teaching Lesson 3.3 & 3.4\n",
    "> Student Teaching Notes and Homework (3.3 & 3.4)\n",
    "\n",
    "- layout: default\n",
    "- comments: true\n",
    "- toc: true\n",
    "- permalink: /lesson3-4\n",
    "- categories: [Student Teaching Portfolio]"
   ]
  },
  {
   "cell_type": "markdown",
   "metadata": {},
   "source": [
    "# 3.3 & 3.4\n",
    "## Algorithms\n",
    "- Sequencing\n",
    "    - do tasks in order\n",
    "- Selection\n",
    "    - helps choose two different outcomes based off 1 decision\n",
    "- Iteration\n",
    "    - if a condition is true, then it can repeat starting from a certain step until said condition is false\n",
    "- Flowcharts\n",
    "    - show the function of an algorithms\n",
    "    \n",
    "## Arithmetic Operation\n",
    "- subtraction (-)\n",
    "- addition (+)\n",
    "- multiplication (*)\n",
    "- division (/)\n",
    "- Getting the remainder (MOD) (%)\n",
    "- ORDER OF OPERATIONS MATTERS\n",
    "    - reassigning variables using operations on other variables can get confusing\n",
    "\n",
    "### Arithmetic Hacks\n"
   ]
  },
  {
   "cell_type": "code",
   "execution_count": 1,
   "metadata": {},
   "outputs": [],
   "source": [
    "Num1 = 50\n",
    "Num2 = Num1 % 9 + 15                    # num2 = 20\n",
    "Num3 = Num2 / Num1 + ( Num2 * 2 )       # num3 = 20/50 + 40 = 40.4\n",
    "Num4 = Num3 + Num1 / 5 - 10             # num4 = 40.4 + 10 - 10\n",
    "Result = Num4 - Num2                    # Result = 40.4 - 20 = 20.4"
   ]
  },
  {
   "cell_type": "code",
   "execution_count": 2,
   "metadata": {},
   "outputs": [],
   "source": [
    "Num1 = 10\n",
    "Num2 = Num1 % 3 * 4                     # num2 = 1 * 4 = 4\n",
    "Num1 = Num2                             # num1 = 4\n",
    "Num3 = Num1 * 3                         # num3 = 4 * 3 = 12\n",
    "Result = Num3 % 2                       # Result = 0"
   ]
  },
  {
   "cell_type": "code",
   "execution_count": 4,
   "metadata": {},
   "outputs": [
    {
     "name": "stdout",
     "output_type": "stream",
     "text": [
      "17\n"
     ]
    }
   ],
   "source": [
    "valueA = 4\n",
    "valueB = 90\n",
    "valueC = 17\n",
    "valueB = valueC - valueA                # valueB = 17 - 4 = 13\n",
    "valueA = valueA * 10                    # valueA = 4 * 10 = 40\n",
    "if valueB > 10:                         # valueB is 13, which is greater than 10\n",
    "    print(valueC)                       # This will print 17"
   ]
  },
  {
   "cell_type": "code",
   "execution_count": 5,
   "metadata": {},
   "outputs": [
    {
     "name": "stdout",
     "output_type": "stream",
     "text": [
      "straightbrownshort\n"
     ]
    }
   ],
   "source": [
    "type = \"curly\"\n",
    "color = \"brown\"\n",
    "length = \"short\"\n",
    "type = \"straight\"\n",
    "hair = type + color + length            # hair = \"straightbrownshort\" (concatenation)\n",
    "print(hair)                             # This will print straightbrownshort"
   ]
  },
  {
   "cell_type": "markdown",
   "metadata": {},
   "source": [
    "## Strings\n",
    "- Collection of character (#s, letters, spaces, special characters)\n",
    "- procedures can be used with strings\n",
    "    - len() finds length of strings\n",
    "- concatenation combines strings\n",
    "    - concat(\"cookie\", \"monster\") outputs \"cookiemonster\"\n",
    "\n",
    "### Strings Hacks\n",
    "#### Problem 1 CollegeBoard Code\n"
   ]
  },
  {
   "cell_type": "code",
   "execution_count": null,
   "metadata": {},
   "outputs": [],
   "source": [
    "Noun = \"Mr.Mortenson\" \n",
    "Adjective = \"handsome\" \n",
    "Adjective2 = \"Very\" \n",
    "Verb = \"is\" \n",
    "abrev = subtring(Noun, 1, 7) # Abbreviate \"Mr.Mortensen\" to \"Mr.Mort\"\n",
    "yoda = concat(Adjective2, \" \", Adjective, \" \", abrev, \" \",Verb, \".\") # yoda = VeryhandsomeMr.Mortis\n",
    "display[yoda]"
   ]
  },
  {
   "cell_type": "markdown",
   "metadata": {},
   "source": [
    "#### Problem 1 Correct Code"
   ]
  },
  {
   "cell_type": "code",
   "execution_count": 7,
   "metadata": {},
   "outputs": [
    {
     "name": "stdout",
     "output_type": "stream",
     "text": [
      "Mr.Mort is Very handsome.\n"
     ]
    }
   ],
   "source": [
    "Noun = \"Mr.Mortenson\" \n",
    "Adjective = \"handsome\" \n",
    "Adjective2 = \"Very\" \n",
    "Verb = \"is\" \n",
    "abrev = Noun[0:7]\n",
    "yoda = abrev + \" \" + Verb + \" \" + Adjective2 + \" \" + Adjective + \".\"\n",
    "print(yoda)"
   ]
  },
  {
   "cell_type": "markdown",
   "metadata": {},
   "source": [
    "#### Problem 2 CollegeBoard Code"
   ]
  },
  {
   "cell_type": "code",
   "execution_count": null,
   "metadata": {},
   "outputs": [],
   "source": [
    "cookie = \"choclate\" \n",
    "cookie2 = \"rasin\" \n",
    "len1 = len(cookie) / 2 # len1 = 4\n",
    "len2 = len(cookie2) * 45 # len2 = 225\n",
    "vote1 = (cookie, \"vote\", len2) # vote1 = choclatevote225\n",
    "vote2 = (cookie2, \"vote\", len1) # vote2 = rasinvote4\n",
    "votes = concat(vote1, \" \", vote2) # votes = choclatevote225 rasinvote4\n",
    "display[votes]"
   ]
  },
  {
   "cell_type": "markdown",
   "metadata": {},
   "source": [
    "#### Problem 2 Correct Code "
   ]
  },
  {
   "cell_type": "code",
   "execution_count": 3,
   "metadata": {},
   "outputs": [
    {
     "name": "stdout",
     "output_type": "stream",
     "text": [
      "cookie has 4.0 votes and the second cookie has 225 votes.\n"
     ]
    }
   ],
   "source": [
    "cookie = \"choclate\" \n",
    "cookie2 = \"rasin\" \n",
    "len1 = len(cookie) / 2 \n",
    "len2 = len(cookie2) * 45 \n",
    "vote1 = (cookie, \"vote\", len2) \n",
    "vote2 = (cookie2, \"vote\", len1) \n",
    "votes = \"cookie has \" + str(len1) + \" votes and the second cookie has \" + str(len2) + \" votes.\"\n",
    "print(votes)"
   ]
  }
 ],
 "metadata": {
  "kernelspec": {
   "display_name": "base",
   "language": "python",
   "name": "python3"
  },
  "language_info": {
   "codemirror_mode": {
    "name": "ipython",
    "version": 3
   },
   "file_extension": ".py",
   "mimetype": "text/x-python",
   "name": "python",
   "nbconvert_exporter": "python",
   "pygments_lexer": "ipython3",
   "version": "3.9.12 (main, Apr  5 2022, 06:56:58) \n[GCC 7.5.0]"
  },
  "orig_nbformat": 4,
  "vscode": {
   "interpreter": {
    "hash": "e7a42f898bd6558739d9efcab6315e27b1f4d067788c5506f4b776d0ba82514c"
   }
  }
 },
 "nbformat": 4,
 "nbformat_minor": 2
}
