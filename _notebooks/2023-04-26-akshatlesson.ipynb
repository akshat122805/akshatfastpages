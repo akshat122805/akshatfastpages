{
 "cells": [
  {
   "attachments": {},
   "cell_type": "markdown",
   "metadata": {},
   "source": [
    "# Introduction to Databases with SQLite"
   ]
  },
  {
   "attachments": {},
   "cell_type": "markdown",
   "metadata": {},
   "source": [
    "### Overview of SQLite and how it differs from other databases\n",
    "\n",
    "#### Introduction to Flask and SQLite\n",
    "\n",
    "Flask is a lightweight web framework for Python, which makes it easy to develop web applications. SQLite is a self-contained, serverless, and zero-configuration database engine that can be easily integrated into Flask applications. By combining Flask and SQLite, you can create web applications with efficient data storage and manipulation capabilities.\n",
    "\n",
    "#### Setting up a Flask Application with SQLite\n",
    "\n",
    "Install Flask and Flask-SQLAlchemy"
   ]
  },
  {
   "cell_type": "code",
   "execution_count": null,
   "metadata": {
    "vscode": {
     "languageId": "powershell"
    }
   },
   "outputs": [],
   "source": [
    "pip install Flask Flask-SQLAlchemy\n"
   ]
  },
  {
   "attachments": {},
   "cell_type": "markdown",
   "metadata": {},
   "source": [
    "Create a new python file, name it anything you want, and add the following code: "
   ]
  },
  {
   "cell_type": "code",
   "execution_count": null,
   "metadata": {},
   "outputs": [],
   "source": [
    "from flask import Flask\n",
    "from flask_sqlalchemy import SQLAlchemy\n",
    "\n",
    "app = Flask(__name__)\n",
    "app.config['SQLALCHEMY_DATABASE_URI'] = 'sqlite:///school.db'\n",
    "db = SQLAlchemy(app)\n",
    "\n",
    "class Student(db.Model):\n",
    "    id = db.Column(db.Integer, primary_key=True)\n",
    "    name = db.Column(db.String(80), nullable=False)\n",
    "    age = db.Column(db.Integer, nullable=False)\n",
    "\n",
    "    def __repr__(self):\n",
    "        return f'<Student {self.name}>'\n"
   ]
  },
  {
   "attachments": {},
   "cell_type": "markdown",
   "metadata": {},
   "source": [
    "In this code, we first import the necessary modules and create a Flask application. We then configure the database URI to use SQLite and create an instance of SQLAlchemy with the Flask app.\n",
    "\n",
    "The Student class represents the \"students\" table in our SQLite database. We define the columns \"id\", \"name\", and \"age\" as class attributes, specifying their types and constraints."
   ]
  },
  {
   "attachments": {},
   "cell_type": "markdown",
   "metadata": {},
   "source": [
    "#### Data Storage and Manipulation with Flask and SQLite\n",
    "\n",
    "Creating a table:\n",
    "\n",
    "To create a table, we define a class that inherits from db.Model, as shown in the Student class example. When the application starts, SQLAlchemy will create the table if it doesn't already exist.\n",
    "\n",
    "Inserting data:\n",
    "\n",
    "To insert a new student into the \"students\" table, you can create a new instance of the Student class and add it to the database session:"
   ]
  },
  {
   "cell_type": "code",
   "execution_count": null,
   "metadata": {},
   "outputs": [],
   "source": [
    "new_student = Student(name='John Doe', age=25)\n",
    "db.session.add(new_student)\n",
    "db.session.commit()\n"
   ]
  },
  {
   "attachments": {},
   "cell_type": "markdown",
   "metadata": {},
   "source": [
    "Querying data:\n",
    "\n",
    "To retrieve all students from the \"students\" table, you can use the query attribute of the Student class:"
   ]
  },
  {
   "cell_type": "code",
   "execution_count": null,
   "metadata": {},
   "outputs": [],
   "source": [
    "students = Student.query.all()\n"
   ]
  },
  {
   "attachments": {},
   "cell_type": "markdown",
   "metadata": {},
   "source": [
    "To filter students by a specific criterion, you can use the filter_by method:"
   ]
  },
  {
   "cell_type": "code",
   "execution_count": null,
   "metadata": {},
   "outputs": [],
   "source": [
    "students = Student.query.filter_by(age=25).all()\n"
   ]
  },
  {
   "attachments": {},
   "cell_type": "markdown",
   "metadata": {},
   "source": [
    "Updating data:\n",
    "\n",
    "To update a student's age in the \"students\" table, you can first query the student, modify the age attribute, and then commit the changes:"
   ]
  },
  {
   "cell_type": "code",
   "execution_count": null,
   "metadata": {},
   "outputs": [],
   "source": [
    "student = Student.query.get(1)\n",
    "student.age = 26\n",
    "db.session.commit()"
   ]
  },
  {
   "attachments": {},
   "cell_type": "markdown",
   "metadata": {},
   "source": [
    "Deleting data:\n",
    "\n",
    "To delete a student from the \"students\" table, you can first query the student, remove it from the session, and then commit the changes:"
   ]
  },
  {
   "cell_type": "code",
   "execution_count": null,
   "metadata": {},
   "outputs": [],
   "source": [
    "student = Student.query.get(1)\n",
    "db.session.delete(student)\n",
    "db.session.commit()\n"
   ]
  },
  {
   "attachments": {},
   "cell_type": "markdown",
   "metadata": {},
   "source": [
    "#### Implementing Basic Routes with Flask and SQLite\n",
    "\n",
    "To demonstrate data storage and manipulation in a Flask application, we can create simple routes for each operation.\n",
    "\n",
    "Add the necessary imports and routes to app.py:\n",
    "\n",
    "Here is how to add a student to the database"
   ]
  },
  {
   "cell_type": "code",
   "execution_count": null,
   "metadata": {},
   "outputs": [],
   "source": [
    "from flask import request, redirect, url_for\n",
    "\n",
    "@app.route('/add_student', methods=['POST'])\n",
    "def add_student():\n",
    "    name = request.form['name']\n",
    "    age = int(request.form['age'])\n",
    "    new_student = Student(name=name, age=age)\n",
    "    db.session.add(new_student)\n",
    "    db.session.commit()\n",
    "    return redirect(url_for('index'))\n"
   ]
  },
  {
   "attachments": {},
   "cell_type": "markdown",
   "metadata": {},
   "source": [
    "Displaying students:\n",
    "\n",
    "To create a route that displays all students in the \"students\" table, you can implement an index route:"
   ]
  },
  {
   "cell_type": "code",
   "execution_count": null,
   "metadata": {},
   "outputs": [],
   "source": [
    "from flask import render_template\n",
    "\n",
    "@app.route('/')\n",
    "def index():\n",
    "    students = Student.query.all()\n",
    "    return render_template('index.html', students=students)\n"
   ]
  },
  {
   "attachments": {},
   "cell_type": "markdown",
   "metadata": {},
   "source": [
    "Updating a student's age:\n",
    "\n",
    "To create a route that updates a student's age in the \"students\" table, you can implement an update_student route:"
   ]
  },
  {
   "cell_type": "code",
   "execution_count": null,
   "metadata": {},
   "outputs": [],
   "source": [
    "@app.route('/update_student/<int:student_id>', methods=['POST'])\n",
    "def update_student(student_id):\n",
    "    new_age = int(request.form['age'])\n",
    "    student = Student.query.get(student_id)\n",
    "    student.age = new_age\n",
    "    db.session.commit()\n",
    "    return redirect(url_for('index'))\n"
   ]
  },
  {
   "attachments": {},
   "cell_type": "markdown",
   "metadata": {},
   "source": [
    "Deleting a student:\n",
    "\n",
    "To create a route that deletes a student from the \"students\" table, you can implement a delete_student route:"
   ]
  },
  {
   "cell_type": "code",
   "execution_count": null,
   "metadata": {},
   "outputs": [],
   "source": [
    "@app.route('/delete_student/<int:student_id>')\n",
    "def delete_student(student_id):\n",
    "    student = Student.query.get(student_id)\n",
    "    db.session.delete(student)\n",
    "    db.session.commit()\n",
    "    return redirect(url_for('index'))\n"
   ]
  },
  {
   "attachments": {},
   "cell_type": "markdown",
   "metadata": {},
   "source": [
    "## Homework - Creating a Template"
   ]
  },
  {
   "cell_type": "code",
   "execution_count": null,
   "metadata": {
    "vscode": {
     "languageId": "html"
    }
   },
   "outputs": [],
   "source": [
    "<!DOCTYPE html>\n",
    "<html lang=\"en\">\n",
    "<head>\n",
    "    <meta charset=\"UTF-8\">\n",
    "    <meta http-equiv=\"X-UA-Compatible\" content=\"IE=edge\">\n",
    "    <meta name=\"viewport\" content=\"width=device-width, initial-scale=1.0\">\n",
    "    <title>Students</title>\n",
    "</head>\n",
    "<body>\n",
    "    <h1>Students</h1>\n",
    "    <table>\n",
    "        <tr>\n",
    "            <th>ID</th>\n",
    "            <th>Name</th>\n",
    "            <th>Age</th>\n",
    "            <th>Actions</th>\n",
    "        </tr>\n",
    "        {% for student in students %}\n",
    "        <tr>\n",
    "            <td>{{ student.id }}</td>\n",
    "            <td>{{ student.name }}</td>\n",
    "            <td>{{ student.age }}</td>\n",
    "            <td>\n",
    "                <form action=\"{{ url_for('update_student', student_id=student.id) }}\" method=\"post\">\n",
    "                    <input type=\"number\" name=\"age\" value=\"{{ student.age }}\">\n",
    "                    <input type=\"submit\" value=\"Update\">\n",
    "                </form>\n",
    "                <a href=\"{{ url_for('delete_student', student_id=student.id) }}\">Delete</a>\n",
    "            </td>\n",
    "        </tr>\n",
    "        {% endfor %}\n",
    "    </table>\n",
    "    <h2>Add Student</h2>\n",
    "    <form action=\"{{ url_for('add_student') }}\" method=\"post\">\n",
    "        <label for=\"name\">Name:</label>\n",
    "        <input type=\"text\" name=\"name\">\n",
    "        <label for=\"age\">Age:</label>\n",
    "        <input type=\"number\" name=\"age\">\n",
    "        <input type=\"submit\" value=\"Add\">\n",
    "    </form>\n",
    "</body>\n",
    "</html>\n",
    "``\n"
   ]
  },
  {
   "attachments": {},
   "cell_type": "markdown",
   "metadata": {},
   "source": [
    "### Conclusion \n",
    "\n",
    "WE COVERED:\n",
    "I. Introduction to Flask and SQLite\n",
    "II. Setting up a Flask Application with SQLite\n",
    "III. Data Storage and Manipulation with Flask and SQLite\n",
    "IV. Implementing Basic Routes with Flask and SQLite\n",
    "V. Creating Templates\n",
    "\n",
    "This lesson provides a basic understanding of how to set up and use a Flask web application with an SQLite database. Students should now be familiar with data storage and manipulation concepts, including creating tables, inserting data, querying data, updating data, and deleting data.\n",
    "\n",
    "Now I'm going to hand it off to Samit and Martin"
   ]
  }
 ],
 "metadata": {
  "language_info": {
   "name": "python"
  },
  "orig_nbformat": 4
 },
 "nbformat": 4,
 "nbformat_minor": 2
}
