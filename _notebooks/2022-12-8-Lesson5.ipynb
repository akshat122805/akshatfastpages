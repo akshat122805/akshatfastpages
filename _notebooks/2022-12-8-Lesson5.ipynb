{
 "cells": [
  {
   "attachments": {},
   "cell_type": "markdown",
   "metadata": {},
   "source": [
    "# Unit 3 Sections 12 and 13 lesson\n",
    "> Developing and Writing Procedures Lesson\n",
    "\n",
    "- title: Unit 3 Sections 12-13\n",
    "- toc: true\n",
    "- badges: false\n",
    "- categories: [3.12-3.13]"
   ]
  },
  {
   "attachments": {},
   "cell_type": "markdown",
   "metadata": {},
   "source": [
    "## Calling Procedures\n",
    "\n",
    "Slide 1:\n",
    "- A procedure is a named group of programming instructions that may have parameters and return values.\n",
    "- Procedures are referred to by different names, such as method or function, depending on the programing language.\n",
    "- Parameters are input values of a procedure. Arguments specify the values of the parameters when procedure is called.\n",
    "- A procedure call interrupts the sequential execution of statements causing the program to execute the statements within the procedure before continuing. One the last statement in the procedure (or a return statement) has executed, flow or control is returned to the point immediately following where the procedure was called.\n",
    "\n",
    "Slide 2:\n",
    "- When calling procedures, it's important to take notice to whether it returns data, or a block of statements.\n",
    "- If the procedure just returns a block of statements, you call the procedure by referring to the procedure name, and inputting the arguments.\n",
    "- If the procedure returns some sort of data like a boolean or value, then you will assign that value to a variable\n",
    "\n",
    "Slide 3:\n",
    "\n",
    "- Assume the Temperature outside is Fahrenheit. \n",
    "- The procedure convertFahrenheit is intended to convert from Fahrenheit to Celsius.\n",
    "- Convert the following psuedocode to python\n",
    "\n"
   ]
  },
  {
   "cell_type": "code",
   "execution_count": 3,
   "metadata": {},
   "outputs": [
    {
     "name": "stdout",
     "output_type": "stream",
     "text": [
      "25.0\n",
      "What is the temperature outside?\n"
     ]
    }
   ],
   "source": [
    "def convertFahrenheit (temperature):\n",
    "\tcelsius = temperature - 32\n",
    "\tcelsius = celsius  * 5/9\n",
    "\treturn celsius\n",
    "\n",
    "\n",
    "outsideTemp = input(\"What is the temperature Outside?\")\n",
    "print(convertFahrenheit(int(outsideTemp)))\n",
    "\n",
    "def convertFahrenheit (temperature):\n",
    "\tcelsius = temperature - 32\n",
    "\tcelsius = celsius  * 5/9\n",
    "\treturn celsius\n",
    "\n",
    "print(\"What is the temperature outside?\")\n",
    "outsideTemp = input()\n",
    "\n"
   ]
  },
  {
   "attachments": {},
   "cell_type": "markdown",
   "metadata": {},
   "source": [
    "## Developing Procedures\n",
    "\n",
    "Slide 8: \n",
    "\n",
    "Picking a procedure name is important in case you revisit the code later on (separate words with capitals)\n",
    "There are 2 different types of procedures- ones that return a value and those that simply execute a block of statements\n",
    "Steps of developing procedure: picking a useful name, thinking of parameters (what data does the procedure need to know), making a flowchart or writing procedure in pseudocode, and actually developing the procedure.\n",
    "\n",
    "Slide 9: \n",
    "\n",
    "In this example, a teacher is writing a program that will replace the grade on a previous quiz if the new grade is better than the previous.\n",
    "\n",
    "- What would be a good name for this procedure?\n",
    "- What parameters do we need for this procedure?\n",
    "- Try writing this procedure out in python based on the given pseudocode\n",
    "\n"
   ]
  },
  {
   "cell_type": "code",
   "execution_count": 2,
   "metadata": {},
   "outputs": [
    {
     "name": "stdout",
     "output_type": "stream",
     "text": [
      "Your new grade on the quiz is 100%\n"
     ]
    }
   ],
   "source": [
    "currentPoints = int(input(\"How many points did you earn on the retake? (Positive integer\"))\n",
    "quizGrade = int(input(\"How many points did you earn previously for the quiz? (Positive integer)\"))\n",
    "quizTotal = int(input(\"How many points was the quiz out of? (Positive integer\"))\n",
    "\n",
    "def quizReplace(currentPoints, quizGrade, quizTotal):\n",
    "    quizGrade = (quizGrade/quizTotal) * 100\n",
    "    currentGrade = currentPoints / quizTotal\n",
    "    currentGrade = currentGrade * 100\n",
    "    if (currentGrade > quizGrade):\n",
    "        quizGrade = currentGrade\n",
    "    return quizGrade\n",
    "\n",
    "print(\"Your new grade on the quiz is \" + str(int(quizReplace(currentPoints, quizGrade, quizTotal))) + \"%\")\n",
    "\n",
    "# inputted: currentPoints = 30\n",
    "#           quizGrade = 25\n",
    "#           quizTotal = 30\n"
   ]
  },
  {
   "attachments": {},
   "cell_type": "markdown",
   "metadata": {},
   "source": [
    "## Procedural Abstraction\n",
    "\n",
    "- One type of abstraction is procedural abstraction which provides a name for a process and allows a procedure to be used only knowing what it does and not how it does it\n",
    "- This is very helpful in managing complexity in a program\n",
    "- Subdivision of a program into separate subprograms is called modularity\n",
    "- A procedural abstraction may extract shared features to generalize functionality instead of duplicating code. This allows for program reuse, which helps manage complexity\n",
    "- When a pre-written procedure is called, you don’t necessarily need to know the details of this, just what it does and how to call it\n",
    "- Simply, procedural abstraction is naming and calling a pre-written procedure\n",
    "- Making sure to include the right arguments so the procedure can do what its supposed to do is crucial"
   ]
  },
  {
   "cell_type": "markdown",
   "metadata": {},
   "source": [
    "## Complexity Example\n",
    "\n",
    "One of the biggest advantages of procedural abstraction is managing complexity.\n",
    "\n",
    "Think about the process of simplifying the code?\n",
    "What do you think the advantage of the code segment on the left is?\n",
    "\n",
    "|Code Segment 1|Code Segment 2|\n",
    "|--------------|--------------|\n",
    "|ROTATE_LEFT()|detourLeft()|\n",
    "MOVE_FORWARD()|turnCorner()| \n",
    "ROTATE_RIGHT  |MOVE_FORWARD()| \n",
    "MOVE_FORWARD()|MOVE_FORWARD()|\n",
    "MOVE_FORWARD()\n",
    "ROTATE_RIGHT()\n",
    "MOVE_FORWARD()\n",
    "ROTATE_LEFT()\n",
    "MOVE_FORWARD()\n",
    "ROTATE_LEFT()\n",
    "MOVE_FORWARD()\n",
    "MOVE_FORWARD\n",
    "MOVE_FORWARD()"
   ]
  },
  {
   "attachments": {},
   "cell_type": "markdown",
   "metadata": {},
   "source": [
    "## Hacks\n",
    "\n",
    "- Write a python procedure about something which can help you in school, for example the teacher’s function we spoke about earlier.\n",
    "- Points will be awarded based on creativity and functionality\n",
    "- 0.1 points will be deducted for late submissions\n",
    "- Submit the notes with all blanks filled in (scored out of 0.5 points) and the python procedure (scored out of 0.5 points) by Monday 12/12 at 11:59 PM.\n"
   ]
  },
  {
   "cell_type": "code",
   "execution_count": 1,
   "metadata": {},
   "outputs": [
    {
     "name": "stdout",
     "output_type": "stream",
     "text": [
      "Your assignment was well-written and thoroughly researched. Great job!\n"
     ]
    }
   ],
   "source": [
    "def get_teacher_feedback(teacher_name, assignment_name):\n",
    "  \n",
    "  feedback = \"Your assignment was well-written and thoroughly researched. Great job!\"\n",
    "  \n",
    "  \n",
    "  return feedback\n",
    "\n",
    "print(get_teacher_feedback(\"Ms. Smith\", \"History project\"))"
   ]
  },
  {
   "attachments": {},
   "cell_type": "markdown",
   "metadata": {},
   "source": [
    "In this example, the get_teacher_feedback() procedure takes in two arguments: the teacher's name and the name of the assignment. It then retrieves feedback for that assignment from the teacher and returns it.\n",
    "\n",
    "To call the procedure, we simply call the get_teacher_feedback() function and pass in the appropriate arguments. In this case, we are calling the function with the teacher's name as \"Ms. Smith\" and the assignment name as \"History project\". When we run the code, the feedback from Ms. Smith for the History project will be printed to the screen."
   ]
  },
  {
   "attachments": {},
   "cell_type": "markdown",
   "metadata": {},
   "source": [
    "# another example!!!!"
   ]
  },
  {
   "cell_type": "code",
   "execution_count": 2,
   "metadata": {},
   "outputs": [
    {
     "name": "stdout",
     "output_type": "stream",
     "text": [
      "89.5\n"
     ]
    }
   ],
   "source": [
    "def calculate_grade(homework_grades, quiz_grades, test_grades):\n",
    "\n",
    "  homework_grade = sum(homework_grades) / len(homework_grades)\n",
    "  \n",
    "  quiz_grade = sum(quiz_grades) / len(quiz_grades)\n",
    "  \n",
    "  test_grade = sum(test_grades) / len(test_grades)\n",
    "  \n",
    "  final_grade = 0.3 * homework_grade + 0.3 * quiz_grade + 0.4 * test_grade\n",
    "  \n",
    "  return final_grade\n",
    "\n",
    "print(calculate_grade([90, 95, 100], [85, 90, 95], [80, 85, 90]))"
   ]
  },
  {
   "attachments": {},
   "cell_type": "markdown",
   "metadata": {},
   "source": [
    "To call the procedure, we simply call the calculate_grade() function and pass in the appropriate arguments. In this case, we are calling the function with three lists of grades for the homework, quiz, and test categories. When we run the code, the final grade for the student will be printed to the screen."
   ]
  }
 ],
 "metadata": {
  "kernelspec": {
   "display_name": "Python 3.9.12 ('base')",
   "language": "python",
   "name": "python3"
  },
  "language_info": {
   "codemirror_mode": {
    "name": "ipython",
    "version": 3
   },
   "file_extension": ".py",
   "mimetype": "text/x-python",
   "name": "python",
   "nbconvert_exporter": "python",
   "pygments_lexer": "ipython3",
   "version": "3.9.12"
  },
  "orig_nbformat": 4,
  "vscode": {
   "interpreter": {
    "hash": "e7a42f898bd6558739d9efcab6315e27b1f4d067788c5506f4b776d0ba82514c"
   }
  }
 },
 "nbformat": 4,
 "nbformat_minor": 2
}
