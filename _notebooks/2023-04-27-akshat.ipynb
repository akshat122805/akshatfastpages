{
 "cells": [
  {
   "attachments": {},
   "cell_type": "markdown",
   "metadata": {},
   "source": [
    "# Introduction to Databases with SQLite\n",
    "> Overview of SQLite and Introduction to Flask and SQLite\n",
    "- toc: true\n",
    "- layout: base\n",
    "- title: Akshiesty Lesson\n",
    "\n",
    "\n"
   ]
  },
  {
   "attachments": {},
   "cell_type": "markdown",
   "metadata": {},
   "source": [
    "## Lecture Topics:\n",
    "\n",
    "Establishing Class/User Data and making a new user\n",
    "\n",
    "In Python, classes are templates used to create objects, which are instances of those classes. Classes define the data elements (attributes) and methods that describe the behavior of the objects. Let's explore how to define a class and create objects in Python.\n",
    "\n",
    "Example: Defining a User class"
   ]
  },
  {
   "cell_type": "code",
   "execution_count": null,
   "metadata": {},
   "outputs": [],
   "source": [
    "class User:\n",
    "    def __init__(self, username, email):\n",
    "        self.username = username\n",
    "        self.email = email\n",
    "\n",
    "    def display_info(self):\n",
    "        print(f\"Username: {self.username}, Email: {self.email}\")\n"
   ]
  },
  {
   "attachments": {},
   "cell_type": "markdown",
   "metadata": {},
   "source": [
    "In this example, we define a User class with a constructor method __init__ that takes username and email as arguments. The display_info method is used to print the user information.\n",
    "\n",
    "Creating a new user:"
   ]
  },
  {
   "cell_type": "code",
   "execution_count": null,
   "metadata": {},
   "outputs": [],
   "source": [
    "new_user = User(\"john_doe\", \"john@example.com\")\n",
    "new_user.display_info()\n"
   ]
  },
  {
   "attachments": {},
   "cell_type": "markdown",
   "metadata": {},
   "source": [
    "Lecture Topics:\n",
    "\n",
    "    Establishing Class/User Data and making a new user\n",
    "\n",
    "In Python, classes are templates used to create objects, which are instances of those classes. Classes define the data elements (attributes) and methods that describe the behavior of the objects. Let's explore how to define a class and create objects in Python.\n",
    "\n",
    "Example: Defining a User class\n",
    "\n",
    "python\n",
    "\n",
    "class User:\n",
    "    def __init__(self, username, email):\n",
    "        self.username = username\n",
    "        self.email = email\n",
    "\n",
    "    def display_info(self):\n",
    "        print(f\"Username: {self.username}, Email: {self.email}\")\n",
    "\n",
    "In this example, we define a User class with a constructor method __init__ that takes username and email as arguments. The display_info method is used to print the user information.\n",
    "\n",
    "Creating a new user:\n",
    "\n",
    "python\n",
    "\n",
    "new_user = User(\"john_doe\", \"john@example.com\")\n",
    "new_user.display_info()\n",
    "\n",
    "Here, we create a new User object, new_user, with a specified username and email. We then call the display_info method to display the user's information.\n",
    "\n",
    "Using property decorators (getter and setter)\n",
    "\n",
    "Property decorators allow developers to access and modify instance data more concisely. The @property decorator creates a getter method, while the @attribute.setter decorator creates a setter method.\n",
    "\n",
    "Example:"
   ]
  },
  {
   "cell_type": "code",
   "execution_count": null,
   "metadata": {},
   "outputs": [],
   "source": [
    "class Employee:\n",
    "    def __init__(self, employee_id, name):\n",
    "        self._employee_id = employee_id\n",
    "        self._name = name\n",
    "\n",
    "    @property\n",
    "    def name(self):\n",
    "        return self._name\n",
    "\n",
    "    @name.setter\n",
    "    def name(self, new_name):\n",
    "        self._name = new_name\n"
   ]
  },
  {
   "attachments": {},
   "cell_type": "markdown",
   "metadata": {},
   "source": [
    "In this example, the Employee class has a name attribute, which is accessed and modified through the name property getter and setter methods. The _name attribute uses an underscore prefix, which is a convention to indicate it should not be accessed directly.\n",
    "\n",
    "Usage:"
   ]
  },
  {
   "cell_type": "code",
   "execution_count": null,
   "metadata": {},
   "outputs": [],
   "source": [
    "employee = Employee(1001, \"John Doe\")\n",
    "print(employee.name)  # Get the name using the getter method\n",
    "\n",
    "employee.name = \"Jane Doe\"  # Set the name using the setter method\n",
    "print(employee.name)\n"
   ]
  },
  {
   "attachments": {},
   "cell_type": "markdown",
   "metadata": {},
   "source": [
    "employee = Employee(1001, \"John Doe\")\n",
    "print(employee.name)  # Get the name using the getter method\n",
    "\n",
    "employee.name = \"Jane Doe\"  # Set the name using the setter method\n",
    "print(employee.name)\n"
   ]
  },
  {
   "cell_type": "code",
   "execution_count": null,
   "metadata": {},
   "outputs": [],
   "source": [
    "class Car:\n",
    "    def __init__(self, make, model, year):\n",
    "        self._make = make\n",
    "        self._model = model\n",
    "        self._year = year\n",
    "\n",
    "    @property\n",
    "    def make(self):\n",
    "        return self._make\n",
    "\n",
    "    @make.setter\n",
    "    def make(self, new_make):\n",
    "        self._make = new_make\n",
    "\n",
    "    @property\n",
    "    def model(self):\n",
    "        return self._model\n",
    "\n",
    "    @model.setter\n",
    "    def model(self, new_model):\n",
    "        self._model = new_model\n",
    "\n",
    "    @property\n",
    "    def year(self):\n",
    "        return self._year\n",
    "\n",
    "    @year.setter\n",
    "    def year(self, new_year):\n",
    "        self._year = new_year\n"
   ]
  },
  {
   "attachments": {},
   "cell_type": "markdown",
   "metadata": {},
   "source": [
    "Students can then practice creating instances of their Car class and using the getter and setter methods to access and modify the car attributes."
   ]
  },
  {
   "attachments": {},
   "cell_type": "markdown",
   "metadata": {},
   "source": [
    "### Conclusion \n",
    "\n",
    "WE COVERED:\n",
    "In conclusion, we have covered essential concepts in object-oriented programming using Python, including:\n",
    "\n",
    "    Defining classes and creating objects\n",
    "    Property decorators (getter and setter)\n",
    "    Class methods and static methods\n",
    "    Inheritance and method overriding\n",
    "    Working with multiple objects and class attributes\n",
    "\n",
    "These concepts provide a solid foundation for understanding how to model real-world entities using classes and objects in Python. By learning to work with classes, objects, and their methods, students can develop more efficient and modular code.\n",
    "\n",
    "As students become more comfortable with these concepts, they can explore more advanced topics, such as multiple inheritance, abstract classes, encapsulation, and polymorphism. Additionally, they can apply these principles to practical projects like web development with Flask and SQLite, as discussed earlier.\n",
    "\n",
    "Overall, mastering object-oriented programming will greatly enhance students' ability to develop complex and maintainable software systems.\n",
    "\n",
    "Now I'm going to hand it off to Samit and Martin"
   ]
  }
 ],
 "metadata": {
  "language_info": {
   "name": "python"
  },
  "orig_nbformat": 4
 },
 "nbformat": 4,
 "nbformat_minor": 2
}
