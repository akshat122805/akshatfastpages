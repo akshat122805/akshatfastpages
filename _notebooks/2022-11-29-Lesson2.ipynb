{
 "cells": [
  {
   "attachments": {},
   "cell_type": "markdown",
   "metadata": {},
   "source": [
    "# Mathematical Expressions and Strings\n",
    "- toc: true\n",
    "- comments: true\n",
    "- categories: [3.3-3.4]"
   ]
  },
  {
   "cell_type": "markdown",
   "metadata": {},
   "source": [
    "# Algorithms\n",
    "\n",
    "An Algorithm has three components: \n",
    "- Sequencing \n",
    "- Selection\n",
    "- Iteration\n",
    "\n",
    "# Operations\n",
    "- Addition (+)\n",
    "- Subtraction (-)\n",
    "- Multiplication (*)\n",
    "- Division (/)\n",
    "- Modules (%)\n",
    "\n",
    "TEST BELOW:"
   ]
  },
  {
   "cell_type": "code",
   "execution_count": 2,
   "metadata": {},
   "outputs": [
    {
     "data": {
      "text/plain": [
       "30"
      ]
     },
     "execution_count": 2,
     "metadata": {},
     "output_type": "execute_result"
    }
   ],
   "source": [
    "num1 = 10\n",
    "num2 = 20\n",
    "num1 + num2 "
   ]
  },
  {
   "cell_type": "markdown",
   "metadata": {},
   "source": [
    "# Variables \n",
    "\n",
    "- Values stored in a variable can be numerical\n",
    "\n",
    "- The result of an operation is stored in a variable. \n",
    "\n",
    "- The result of the procedure is also stored in the variable.\n",
    "\n",
    "# Sequencing \n",
    "\n",
    "Changes the overall outcome since the order changes. \n",
    "\n",
    "Tracking Variables"
   ]
  },
  {
   "cell_type": "code",
   "execution_count": 5,
   "metadata": {},
   "outputs": [
    {
     "name": "stdout",
     "output_type": "stream",
     "text": [
      "9\n",
      "7\n",
      "2\n"
     ]
    }
   ],
   "source": [
    "var1 = 9\n",
    "var2 = 7\n",
    "var3 = 2\n",
    "\n",
    "#var = var1 + 5\n",
    "#var 2 = var1 - var3\n",
    "\n",
    "print(var1)\n",
    "print(var2)\n",
    "print(var3)"
   ]
  },
  {
   "cell_type": "markdown",
   "metadata": {},
   "source": [
    "# String\n",
    "\n",
    "Collection of characters, can be any character. A string is a collection of characters. \n",
    "\n",
    "- len() finds the lenght of a string\n",
    "- lower () to convert to lowercase\n",
    "- concat() returns a string made up of the concatenated strings. Which is combining 2 more strings to make 1 string. \n",
    "- substring()\n",
    "- PSEUDOCODE STARTS AT 1\n",
    "- CB uses brackets and says display."
   ]
  },
  {
   "cell_type": "markdown",
   "metadata": {},
   "source": [
    "# Problem Set [1-4]"
   ]
  },
  {
   "cell_type": "code",
   "execution_count": 23,
   "metadata": {},
   "outputs": [
    {
     "name": "stdout",
     "output_type": "stream",
     "text": [
      "20.4\n"
     ]
    }
   ],
   "source": [
    "# Hacks/Homework\n",
    "\n",
    "Num1 = 50\n",
    "Num2 = Num1 % 9 + 15 # 50/9 = 5 remainder --> add 15 = 20\n",
    "Num3 = Num2 / Num1 + ( Num2 * 2 ) # 20/50 + 40 = 40.4\n",
    "Num4 = Num3 + Num1 / 5 - 10 # 40.4 + 50/5 - 10 = 40.4\n",
    "Result = Num4 - Num2 # 40.4 - 20\n",
    "print(Result)"
   ]
  },
  {
   "cell_type": "code",
   "execution_count": 13,
   "metadata": {},
   "outputs": [
    {
     "name": "stdout",
     "output_type": "stream",
     "text": [
      "0\n"
     ]
    }
   ],
   "source": [
    "Num1 = 10\n",
    "Num2 = Num1 % 3 * 4 # 10/3 * 4\n",
    "Num1 = Num2 \n",
    "Num3 = Num1 * 3\n",
    "Result = Num3 % 2\n",
    "print(Result)"
   ]
  },
  {
   "cell_type": "code",
   "execution_count": 14,
   "metadata": {},
   "outputs": [
    {
     "name": "stdout",
     "output_type": "stream",
     "text": [
      "17\n"
     ]
    }
   ],
   "source": [
    "valueA = 4\n",
    "valueB = 90\n",
    "valueC = 17\n",
    "valueB = valueC - valueA\n",
    "valueA = valueA * 10\n",
    "if valueB > 10:\n",
    "    print(valueC)"
   ]
  },
  {
   "cell_type": "code",
   "execution_count": 15,
   "metadata": {},
   "outputs": [
    {
     "name": "stdout",
     "output_type": "stream",
     "text": [
      "curlybrownshortstraight\n"
     ]
    }
   ],
   "source": [
    "type = \"curly\"\n",
    "color = \"brown\"\n",
    "length = \"short\"\n",
    "type2 = \"straight\"\n",
    "hair = type + color + length + type2\n",
    "print(hair)"
   ]
  },
  {
   "cell_type": "markdown",
   "metadata": {},
   "source": [
    "# Problem Set 2 "
   ]
  },
  {
   "cell_type": "code",
   "execution_count": 22,
   "metadata": {},
   "outputs": [
    {
     "name": "stdout",
     "output_type": "stream",
     "text": [
      "Mr.Mort is extremely handsome\n"
     ]
    }
   ],
   "source": [
    "Noun = \"Mr.Mortensen\" \n",
    "Adjective = \"handsome\" \n",
    "Adjective2 = \"extremely\" \n",
    "Verb = \"is\" \n",
    "abrev = Noun[0:7]\n",
    "yoda = abrev + \" \" + Verb + \" \" + Adjective2 + \" \" + Adjective\n",
    "print(yoda)"
   ]
  },
  {
   "cell_type": "code",
   "execution_count": 5,
   "metadata": {},
   "outputs": [
    {
     "name": "stdout",
     "output_type": "stream",
     "text": [
      "the first Cookie has 4.5 and the second Cookie has 225\n"
     ]
    }
   ],
   "source": [
    "cookie = \"chocolate\" \n",
    "cookie2 = \"rasin\" \n",
    "len1 = len(cookie) / 2 #MANUALLY CALCULATED\n",
    "len2 = len(cookie2) * 45 \n",
    "vote1 = (cookie, \"vote\", len2) \n",
    "vote2 = (cookie2, \"vote\", len1) \n",
    "votes = \"the first Cookie has \" + str(len1) + \" and the second Cookie has \" + str(len2)\n",
    "print(votes)"
   ]
  }
 ],
 "metadata": {
  "kernelspec": {
   "display_name": "Python 3.9.12 ('base')",
   "language": "python",
   "name": "python3"
  },
  "language_info": {
   "codemirror_mode": {
    "name": "ipython",
    "version": 3
   },
   "file_extension": ".py",
   "mimetype": "text/x-python",
   "name": "python",
   "nbconvert_exporter": "python",
   "pygments_lexer": "ipython3",
   "version": "3.9.12"
  },
  "orig_nbformat": 4,
  "vscode": {
   "interpreter": {
    "hash": "e7a42f898bd6558739d9efcab6315e27b1f4d067788c5506f4b776d0ba82514c"
   }
  }
 },
 "nbformat": 4,
 "nbformat_minor": 2
}
