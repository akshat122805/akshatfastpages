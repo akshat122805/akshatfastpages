{
 "cells": [
  {
   "attachments": {},
   "cell_type": "markdown",
   "metadata": {},
   "source": [
    "# Akshat's AWS Guide for Deployment\n",
    "> This notebook will guide you step-by-step on how to configure your AWS instance and deploy your backend. Special thanks to Azeem Khan and Jeffery.\n",
    "\n",
    "- toc: true\n",
    "- badges: false\n",
    "- categories: [markdown]\n",
    "- layout: notebook"
   ]
  },
  {
   "attachments": {},
   "cell_type": "markdown",
   "metadata": {},
   "source": [
    "# Step 1\n",
    "\n",
    "## Access AWS!!!\n",
    "\n",
    "- access [aws](https://aws.amazon.com/marketplace/management/signin)\n",
    "\n",
    "- Set your region to Ohio\n",
    "\n",
    "- Find EC2, should be there. \n",
    "\n",
    "- Navigate to instances\n",
    "\n",
    "- Find NCS.cf Yeung CSP or NCS.gq Mort CSP and click connect.\n",
    "\n",
    "- Type in cd ~\n",
    "\n",
    "- Run the commands below:\n",
    "\n",
    "First you type in: $ virtualenv -p /usr/bin/python3 webapp\n",
    "\n",
    "Then type: $ source webapp/bin/activate"
   ]
  },
  {
   "attachments": {},
   "cell_type": "markdown",
   "metadata": {},
   "source": [
    "# Step 2\n",
    "\n",
    "## PORTS!!!\n",
    "\n",
    "1. Run sudo docker ps\n",
    "\n",
    "You should see a huge list of ports regarding your project name. \n",
    "\n",
    "Select a port that is not in use, anything in the 8000s. \n",
    "\n",
    "Then go to your backend repo, this is your flask. \n",
    "\n",
    "Make sure your Dockerfile matches what it says below:"
   ]
  },
  {
   "attachments": {},
   "cell_type": "markdown",
   "metadata": {},
   "source": [
    "Now Type in sudo docker-compose up in your terminal \n",
    "\n",
    "After that type in the link in your browser: something like https://localhost:PORTNUMBER.. if this works, push your changes and your good."
   ]
  },
  {
   "attachments": {},
   "cell_type": "markdown",
   "metadata": {},
   "source": [
    "# Step 3\n",
    "\n",
    "## AWS!!!\n",
    "\n",
    "In the AWS terminal;\n",
    "\n",
    "- go to your repo by cding\n",
    "\n",
    "- git clone your flask\n",
    "\n",
    "- run $ pip install -r requirements.txt\n",
    "\n",
    "- go to main.py file and run python3 main.py, if it works, good job. "
   ]
  },
  {
   "attachments": {},
   "cell_type": "markdown",
   "metadata": {},
   "source": [
    "- now type in docker-compose up -d --build \n",
    "\n",
    "- now curl your site by typing - curl localhost:PORTNUMBER\n",
    "\n",
    "- If it shows you a bunch of HTML, this is a good sign and now your almost done. "
   ]
  },
  {
   "attachments": {},
   "cell_type": "markdown",
   "metadata": {},
   "source": [
    "## NGINX stuff via Azeem Khan & Jeffery F. \n",
    "\n",
    "So it turns out Jeffery created a pretty good guide for nginx stuff, here is a link to access it: [Jeffrey's guide to duckdns](https://moonpiedumplings.github.io/quartotest/posts/duckdns/)\n",
    "\n",
    "make sure to create your own config file: you can type in $ sudo nano PROJECTNAME\n",
    "\n",
    "My friend Azeem did a great job by including how your config file should look like so here it is: "
   ]
  },
  {
   "attachments": {},
   "cell_type": "markdown",
   "metadata": {},
   "source": [
    "- save changes - CTRL X\n",
    "\n",
    "- create a link: \n",
    "\n",
    "$ cd /etc/nginx/sites-enabled \n",
    "\n",
    "$ ln -s /etc/nginx/sites-available/PROJECTNAME/etc/nginx/sites-enabled \n",
    "\n",
    "then type $ sudo nginx -t\n",
    "\n",
    "- now you have to restart so run:\n",
    "\n",
    "sudo systemctl restart nginx\n",
    "\n",
    "\n",
    "- check if it works on chrome or your preferred browser. \n"
   ]
  },
  {
   "attachments": {},
   "cell_type": "markdown",
   "metadata": {},
   "source": [
    "# Step 4\n",
    "\n",
    "## Certification stuff\n",
    "\n",
    "Certbot allows your site to be HTTPS, this is good.\n",
    "\n",
    "## Run commands below\n",
    "\n",
    "$ cd\n",
    "\n",
    "$ sudo snap install core; sudo snap refresh core\n",
    "\n",
    "$ sudo snap install --classic certbot\n",
    "\n",
    "$ sudo ln -s /snap/bin/certbot\n",
    "\n",
    "$ sudo certbot --nginx\n",
    "\n",
    "My friend Azeem helped me understand why we need https and a valid certificate, he taught me to run these commands. "
   ]
  },
  {
   "attachments": {},
   "cell_type": "markdown",
   "metadata": {},
   "source": [
    "# Final Step\n",
    "\n",
    "## What if I wanted to change code or any other stuff?\n",
    "\n",
    "- cd to your project\n",
    "\n",
    "- type: \n",
    "\n",
    "sudo docker-compose ps\n",
    "\n",
    "- now type:\n",
    "\n",
    "sudo docker ps \n",
    "\n",
    "- run: git status (to see if there are changes)\n",
    "\n",
    "- type in:\n",
    "\n",
    "sudo docker-compose kill\n",
    "\n",
    "now it should say 502 BAD GATEWAY\n",
    "\n",
    "- make sure to git pull\n",
    "\n",
    "- type in:\n",
    "\n",
    "sudo docker-compose up -d --build\n",
    "\n",
    "- restart:\n",
    "\n",
    "sudo systemctl restart nginx\n",
    "\n",
    "- cd into your project and type in curl localhost:PORTNUMBER\n",
    "\n",
    "You can probably see changes saving\n",
    "\n",
    "- now type in your url in browser and see if the changes saved. \n",
    "\n",
    "If it did, good job, it worked!"
   ]
  },
  {
   "attachments": {},
   "cell_type": "markdown",
   "metadata": {},
   "source": [
    "## Acknowledgements \n",
    "\n",
    "Azeem Khan helped me understand a few steps regarding this blog, Jeffery also made a good nginx guide, so I am willing to acknowledge them for helping me develop this guide. \n",
    "\n",
    "Thank you"
   ]
  }
 ],
 "metadata": {
  "kernelspec": {
   "display_name": "base",
   "language": "python",
   "name": "python3"
  },
  "language_info": {
   "codemirror_mode": {
    "name": "ipython",
    "version": 3
   },
   "file_extension": ".py",
   "mimetype": "text/x-python",
   "name": "python",
   "nbconvert_exporter": "python",
   "pygments_lexer": "ipython3",
   "version": "3.9.12"
  },
  "orig_nbformat": 4,
  "vscode": {
   "interpreter": {
    "hash": "e7a42f898bd6558739d9efcab6315e27b1f4d067788c5506f4b776d0ba82514c"
   }
  }
 },
 "nbformat": 4,
 "nbformat_minor": 2
}
