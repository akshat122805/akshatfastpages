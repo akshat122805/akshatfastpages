{
 "cells": [
  {
   "cell_type": "markdown",
   "metadata": {},
   "source": [
    "# RapidAPI -- City API for College List\n",
    "\n",
    "## Testing out the CITY COLLEGE API!!!!"
   ]
  },
  {
   "cell_type": "code",
   "execution_count": 3,
   "metadata": {},
   "outputs": [
    {
     "name": "stdout",
     "output_type": "stream",
     "text": [
      "{\"data\":[{\"id\":3517016,\"wikiDataId\":\"Q228\",\"name\":\"Andorra\",\"country\":\"Andorra\",\"countryCode\":\"AD\",\"latitude\":42.558333333,\"longitude\":1.555277777,\"population\":78151},{\"id\":3515514,\"wikiDataId\":\"Q4117373\",\"name\":\"Al Mamzar\",\"country\":\"United Arab Emirates\",\"countryCode\":\"AE\",\"region\":\"Dubai\",\"regionCode\":\"DU\",\"latitude\":25.309469444,\"longitude\":55.342811111,\"population\":0},{\"id\":3517068,\"wikiDataId\":\"Q878\",\"name\":\"United Arab Emirates\",\"country\":\"United Arab Emirates\",\"countryCode\":\"AE\",\"latitude\":23.75,\"longitude\":54.5,\"population\":9890400},{\"id\":3386644,\"wikiDataId\":\"Q3694483\",\"name\":\"Ab Band District\",\"country\":\"Afghanistan\",\"countryCode\":\"AF\",\"region\":\"Ghazni\",\"regionCode\":\"GHA\",\"latitude\":32.983,\"longitude\":67.967,\"population\":0},{\"id\":3339608,\"wikiDataId\":\"Q2572213\",\"name\":\"Ab Kamari\",\"country\":\"Afghanistan\",\"countryCode\":\"AF\",\"region\":\"Badghis\",\"regionCode\":\"BDG\",\"latitude\":34.925,\"longitude\":62.901666666,\"population\":0}],\"links\":[{\"rel\":\"first\",\"href\":\"/v1/geo/cities?offset=0&limit=5\"},{\"rel\":\"next\",\"href\":\"/v1/geo/cities?offset=5&limit=5\"},{\"rel\":\"last\",\"href\":\"/v1/geo/cities?offset=72150&limit=5\"}],\"metadata\":{\"currentOffset\":0,\"totalCount\":72155}}\n"
     ]
    }
   ],
   "source": [
    "import requests\n",
    "\n",
    "url = \"https://wft-geo-db.p.rapidapi.com/v1/geo/adminDivisions\"\n",
    "\n",
    "headers = {\n",
    "\t\"X-RapidAPI-Key\": \"9c66664f59msh6192ef0d1546d18p17967bjsne6b5e3ca1958\",\n",
    "\t\"X-RapidAPI-Host\": \"wft-geo-db.p.rapidapi.com\"\n",
    "}\n",
    "\n",
    "response = requests.request(\"GET\", url, headers=headers)\n",
    "\n",
    "print(response.text)"
   ]
  },
  {
   "cell_type": "markdown",
   "metadata": {},
   "source": [
    "# response with json test"
   ]
  },
  {
   "cell_type": "code",
   "execution_count": 4,
   "metadata": {},
   "outputs": [
    {
     "name": "stdout",
     "output_type": "stream",
     "text": [
      "<bound method Response.json of <Response [200]>>\n"
     ]
    }
   ],
   "source": [
    "import requests\n",
    "\n",
    "url = \"https://wft-geo-db.p.rapidapi.com/v1/geo/adminDivisions\"\n",
    "\n",
    "headers = {\n",
    "\t\"X-RapidAPI-Key\": \"9c66664f59msh6192ef0d1546d18p17967bjsne6b5e3ca1958\",\n",
    "\t\"X-RapidAPI-Host\": \"wft-geo-db.p.rapidapi.com\"\n",
    "}\n",
    "\n",
    "response = requests.request(\"GET\", url, headers=headers)\n",
    "\n",
    "print(response.json)"
   ]
  },
  {
   "cell_type": "code",
   "execution_count": 5,
   "metadata": {},
   "outputs": [],
   "source": [
    "import requests\n",
    "import json\n",
    "\n",
    "cities = 0\n",
    "\n",
    "while cities < 3: # allows for multiple searches\n",
    "\turl = \"https://visual-crossing-weather.p.rapidapi.com/forecast\"\n",
    "\n",
    "\titem = input(\"Select a city:\") # allows for search\n",
    "\n",
    "\tquery = {\"aggregateHours\":\"24\",\"location\":item,\"contentType\":\"csv\",\"unitGroup\":\"us\",\"shortColumnNames\":\"0\"}\n",
    "\n",
    "\theaders = {\n",
    "\t\t\"X-RapidAPI-Key\": \"6b9dacaef5mshade649601d1255fp14c8c2jsn9aeceb731b2b\",\n",
    "\t\t\"X-RapidAPI-Host\": \"visual-crossing-weather.p.rapidapi.com\"\n",
    "\t}\n",
    "\n",
    "\tresponse = requests.get(url, headers=headers, params=query)\n",
    "\n",
    "\tprint(response.text)\n",
    "\tcities = (cities +1)"
   ]
  }
 ],
 "metadata": {
  "kernelspec": {
   "display_name": "Python 3.9.12 ('base')",
   "language": "python",
   "name": "python3"
  },
  "language_info": {
   "codemirror_mode": {
    "name": "ipython",
    "version": 3
   },
   "file_extension": ".py",
   "mimetype": "text/x-python",
   "name": "python",
   "nbconvert_exporter": "python",
   "pygments_lexer": "ipython3",
   "version": "3.9.12"
  },
  "orig_nbformat": 4,
  "vscode": {
   "interpreter": {
    "hash": "e7a42f898bd6558739d9efcab6315e27b1f4d067788c5506f4b776d0ba82514c"
   }
  }
 },
 "nbformat": 4,
 "nbformat_minor": 2
}
